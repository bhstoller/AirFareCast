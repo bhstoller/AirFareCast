{
 "cells": [
  {
   "cell_type": "markdown",
   "metadata": {},
   "source": [
    "# Import Library"
   ]
  },
  {
   "cell_type": "code",
   "metadata": {
    "ExecuteTime": {
     "end_time": "2025-03-04T18:57:29.573633Z",
     "start_time": "2025-03-04T18:57:29.570302Z"
    }
   },
   "source": [
    "from feature_engineering import apply_feature_engineering, add_dummies\n",
    "from data_loading import load_data\n",
    "import numpy as np\n",
    "import pandas as pd\n",
    "from sklearn.model_selection import train_test_split\n",
    "from sklearn.preprocessing import MinMaxScaler\n",
    "import tensorflow as tf\n",
    "from tensorflow.keras.models import Sequential\n",
    "from tensorflow.keras.layers import SimpleRNN, LSTM, Dense\n",
    "from sklearn.metrics import mean_absolute_error, mean_squared_error, r2_score"
   ],
   "outputs": [],
   "execution_count": 25
  },
  {
   "cell_type": "markdown",
   "metadata": {},
   "source": [
    "# Data Loading"
   ]
  },
  {
   "cell_type": "code",
   "metadata": {
    "ExecuteTime": {
     "end_time": "2025-03-04T18:27:52.197749Z",
     "start_time": "2025-03-04T18:27:17.035270Z"
    }
   },
   "source": [
    "# Call the load_data to get the data as a pandas dataframe\n",
    "df = load_data()\n",
    "df.head()"
   ],
   "outputs": [
    {
     "data": {
      "text/plain": [
       "   searchDate  flightDate startingAirport destinationAirport travelDuration  \\\n",
       "0  2022-04-16  2022-04-17             ATL                BOS        PT2H29M   \n",
       "1  2022-04-16  2022-04-17             ATL                BOS        PT2H30M   \n",
       "2  2022-04-16  2022-04-17             ATL                BOS        PT2H30M   \n",
       "3  2022-04-16  2022-04-17             ATL                BOS        PT2H32M   \n",
       "4  2022-04-16  2022-04-17             ATL                BOS        PT2H34M   \n",
       "\n",
       "   isBasicEconomy  isRefundable  isNonStop  totalFare  seatsRemaining  \\\n",
       "0           False         False       True      248.6               9   \n",
       "1           False         False       True      248.6               4   \n",
       "2           False         False       True      248.6               9   \n",
       "3           False         False       True      248.6               8   \n",
       "4           False         False       True      248.6               9   \n",
       "\n",
       "   totalTravelDistance       segmentsDepartureTimeRaw segmentsAirlineCode  \\\n",
       "0                947.0  2022-04-17T12:57:00.000-04:00                  DL   \n",
       "1                947.0  2022-04-17T06:30:00.000-04:00                  DL   \n",
       "2                947.0  2022-04-17T11:35:00.000-04:00                  DL   \n",
       "3                947.0  2022-04-17T13:59:00.000-04:00                  DL   \n",
       "4                947.0  2022-04-17T09:59:00.000-04:00                  DL   \n",
       "\n",
       "  segmentsCabinCode  \n",
       "0             coach  \n",
       "1             coach  \n",
       "2             coach  \n",
       "3             coach  \n",
       "4             coach  "
      ],
      "text/html": [
       "<div>\n",
       "<style scoped>\n",
       "    .dataframe tbody tr th:only-of-type {\n",
       "        vertical-align: middle;\n",
       "    }\n",
       "\n",
       "    .dataframe tbody tr th {\n",
       "        vertical-align: top;\n",
       "    }\n",
       "\n",
       "    .dataframe thead th {\n",
       "        text-align: right;\n",
       "    }\n",
       "</style>\n",
       "<table border=\"1\" class=\"dataframe\">\n",
       "  <thead>\n",
       "    <tr style=\"text-align: right;\">\n",
       "      <th></th>\n",
       "      <th>searchDate</th>\n",
       "      <th>flightDate</th>\n",
       "      <th>startingAirport</th>\n",
       "      <th>destinationAirport</th>\n",
       "      <th>travelDuration</th>\n",
       "      <th>isBasicEconomy</th>\n",
       "      <th>isRefundable</th>\n",
       "      <th>isNonStop</th>\n",
       "      <th>totalFare</th>\n",
       "      <th>seatsRemaining</th>\n",
       "      <th>totalTravelDistance</th>\n",
       "      <th>segmentsDepartureTimeRaw</th>\n",
       "      <th>segmentsAirlineCode</th>\n",
       "      <th>segmentsCabinCode</th>\n",
       "    </tr>\n",
       "  </thead>\n",
       "  <tbody>\n",
       "    <tr>\n",
       "      <th>0</th>\n",
       "      <td>2022-04-16</td>\n",
       "      <td>2022-04-17</td>\n",
       "      <td>ATL</td>\n",
       "      <td>BOS</td>\n",
       "      <td>PT2H29M</td>\n",
       "      <td>False</td>\n",
       "      <td>False</td>\n",
       "      <td>True</td>\n",
       "      <td>248.6</td>\n",
       "      <td>9</td>\n",
       "      <td>947.0</td>\n",
       "      <td>2022-04-17T12:57:00.000-04:00</td>\n",
       "      <td>DL</td>\n",
       "      <td>coach</td>\n",
       "    </tr>\n",
       "    <tr>\n",
       "      <th>1</th>\n",
       "      <td>2022-04-16</td>\n",
       "      <td>2022-04-17</td>\n",
       "      <td>ATL</td>\n",
       "      <td>BOS</td>\n",
       "      <td>PT2H30M</td>\n",
       "      <td>False</td>\n",
       "      <td>False</td>\n",
       "      <td>True</td>\n",
       "      <td>248.6</td>\n",
       "      <td>4</td>\n",
       "      <td>947.0</td>\n",
       "      <td>2022-04-17T06:30:00.000-04:00</td>\n",
       "      <td>DL</td>\n",
       "      <td>coach</td>\n",
       "    </tr>\n",
       "    <tr>\n",
       "      <th>2</th>\n",
       "      <td>2022-04-16</td>\n",
       "      <td>2022-04-17</td>\n",
       "      <td>ATL</td>\n",
       "      <td>BOS</td>\n",
       "      <td>PT2H30M</td>\n",
       "      <td>False</td>\n",
       "      <td>False</td>\n",
       "      <td>True</td>\n",
       "      <td>248.6</td>\n",
       "      <td>9</td>\n",
       "      <td>947.0</td>\n",
       "      <td>2022-04-17T11:35:00.000-04:00</td>\n",
       "      <td>DL</td>\n",
       "      <td>coach</td>\n",
       "    </tr>\n",
       "    <tr>\n",
       "      <th>3</th>\n",
       "      <td>2022-04-16</td>\n",
       "      <td>2022-04-17</td>\n",
       "      <td>ATL</td>\n",
       "      <td>BOS</td>\n",
       "      <td>PT2H32M</td>\n",
       "      <td>False</td>\n",
       "      <td>False</td>\n",
       "      <td>True</td>\n",
       "      <td>248.6</td>\n",
       "      <td>8</td>\n",
       "      <td>947.0</td>\n",
       "      <td>2022-04-17T13:59:00.000-04:00</td>\n",
       "      <td>DL</td>\n",
       "      <td>coach</td>\n",
       "    </tr>\n",
       "    <tr>\n",
       "      <th>4</th>\n",
       "      <td>2022-04-16</td>\n",
       "      <td>2022-04-17</td>\n",
       "      <td>ATL</td>\n",
       "      <td>BOS</td>\n",
       "      <td>PT2H34M</td>\n",
       "      <td>False</td>\n",
       "      <td>False</td>\n",
       "      <td>True</td>\n",
       "      <td>248.6</td>\n",
       "      <td>9</td>\n",
       "      <td>947.0</td>\n",
       "      <td>2022-04-17T09:59:00.000-04:00</td>\n",
       "      <td>DL</td>\n",
       "      <td>coach</td>\n",
       "    </tr>\n",
       "  </tbody>\n",
       "</table>\n",
       "</div>"
      ]
     },
     "execution_count": 2,
     "metadata": {},
     "output_type": "execute_result"
    }
   ],
   "execution_count": 2
  },
  {
   "cell_type": "code",
   "metadata": {
    "ExecuteTime": {
     "end_time": "2025-03-04T18:27:52.473722Z",
     "start_time": "2025-03-04T18:27:52.470517Z"
    }
   },
   "source": [
    "# The data is too large to use in entirety, set a sample of 800,000 rows\n",
    "sample_size = 800000\n",
    "\n",
    "# Get the first 800,000 rows\n",
    "df_sample = df.iloc[:sample_size]"
   ],
   "outputs": [],
   "execution_count": 3
  },
  {
   "cell_type": "markdown",
   "metadata": {},
   "source": [
    "# Feature Engineering"
   ]
  },
  {
   "cell_type": "code",
   "metadata": {
    "ExecuteTime": {
     "end_time": "2025-03-04T18:31:08.544177Z",
     "start_time": "2025-03-04T18:27:52.511602Z"
    }
   },
   "source": [
    "# Call the apply_feature_engineering function from feature_engineering to get the data ready for ML Modeling\n",
    "df_sample = apply_feature_engineering(df_sample, rnn=True)"
   ],
   "outputs": [
    {
     "name": "stdout",
     "output_type": "stream",
     "text": [
      "Starting feature engineering...\n",
      "Converting date columns...\n",
      "Date conversion done. Time elapsed: 0.13s\n",
      "Extracting travel duration...\n",
      "Travel duration extraction done. Time elapsed: 1.17s\n",
      "Imputing missing travel distances...\n",
      "Imputation done. Time elapsed: 1.18s\n",
      "Processing departure times...\n",
      "Departure time processing done. Time elapsed: 192.74s\n",
      "Extracting departure hour and float...\n",
      "Departure time extraction done. Time elapsed: 192.78s\n",
      "Processing airline codes...\n",
      "Airline code processing done. Time elapsed: 193.77s\n",
      "Processing cabin codes...\n",
      "Cabin class processing done. Time elapsed: 195.63s\n",
      "Binning seatsRemaining...\n",
      "Seats binning done. Time elapsed: 195.64s\n",
      "Calculating days to departure...\n",
      "Day of week processing done. Time elapsed: 195.67s\n",
      "Processing holiday features...\n",
      "Holiday features processing done. Time elapsed: 195.71s\n",
      "Dropping columns...\n",
      "Dropping columns done. Time elapsed: 195.78s\n",
      "Renaming columns...\n",
      "Renaming done. Total time elapsed: 195.78s\n",
      "Adding dummies...\n",
      "Dummies added. Total time elapsed: 196.02s\n",
      "Feature engineering complete!\n"
     ]
    }
   ],
   "execution_count": 4
  },
  {
   "cell_type": "code",
   "metadata": {
    "ExecuteTime": {
     "end_time": "2025-03-04T18:31:09.460257Z",
     "start_time": "2025-03-04T18:31:09.361519Z"
    }
   },
   "source": [
    "df_sample.info()"
   ],
   "outputs": [
    {
     "name": "stdout",
     "output_type": "stream",
     "text": [
      "<class 'pandas.core.frame.DataFrame'>\n",
      "RangeIndex: 800000 entries, 0 to 799999\n",
      "Data columns (total 52 columns):\n",
      " #   Column                    Non-Null Count   Dtype         \n",
      "---  ------                    --------------   -----         \n",
      " 0   flightDate                800000 non-null  datetime64[ns]\n",
      " 1   startingAirport           800000 non-null  object        \n",
      " 2   destinationAirport        800000 non-null  object        \n",
      " 3   travelDuration            800000 non-null  int64         \n",
      " 4   isRefundable              800000 non-null  bool          \n",
      " 5   isNonStop                 800000 non-null  bool          \n",
      " 6   totalFare                 800000 non-null  float64       \n",
      " 7   seatsRemaining            800000 non-null  int64         \n",
      " 8   airlineCode               800000 non-null  object        \n",
      " 9   cabinClass                800000 non-null  object        \n",
      " 10  travelDistance            800000 non-null  int64         \n",
      " 11  departureTimeHour         800000 non-null  int32         \n",
      " 12  departureTimeFloat        800000 non-null  float64       \n",
      " 13  binnedSeatsRemaining      798145 non-null  category      \n",
      " 14  daysToDeparture           800000 non-null  int64         \n",
      " 15  departureDayOfWeek        800000 non-null  int32         \n",
      " 16  isWeekend                 800000 non-null  bool          \n",
      " 17  isHoliday                 800000 non-null  bool          \n",
      " 18  nearHoliday               800000 non-null  bool          \n",
      " 19  startingAirport_BOS       800000 non-null  bool          \n",
      " 20  startingAirport_CLT       800000 non-null  bool          \n",
      " 21  startingAirport_DEN       800000 non-null  bool          \n",
      " 22  startingAirport_DFW       800000 non-null  bool          \n",
      " 23  startingAirport_DTW       800000 non-null  bool          \n",
      " 24  startingAirport_EWR       800000 non-null  bool          \n",
      " 25  startingAirport_IAD       800000 non-null  bool          \n",
      " 26  startingAirport_JFK       800000 non-null  bool          \n",
      " 27  startingAirport_LAX       800000 non-null  bool          \n",
      " 28  startingAirport_LGA       800000 non-null  bool          \n",
      " 29  startingAirport_MIA       800000 non-null  bool          \n",
      " 30  startingAirport_OAK       800000 non-null  bool          \n",
      " 31  startingAirport_ORD       800000 non-null  bool          \n",
      " 32  startingAirport_PHL       800000 non-null  bool          \n",
      " 33  startingAirport_SFO       800000 non-null  bool          \n",
      " 34  destinationAirport_BOS    800000 non-null  bool          \n",
      " 35  destinationAirport_CLT    800000 non-null  bool          \n",
      " 36  destinationAirport_DEN    800000 non-null  bool          \n",
      " 37  destinationAirport_DFW    800000 non-null  bool          \n",
      " 38  destinationAirport_DTW    800000 non-null  bool          \n",
      " 39  destinationAirport_EWR    800000 non-null  bool          \n",
      " 40  destinationAirport_IAD    800000 non-null  bool          \n",
      " 41  destinationAirport_JFK    800000 non-null  bool          \n",
      " 42  destinationAirport_LAX    800000 non-null  bool          \n",
      " 43  destinationAirport_LGA    800000 non-null  bool          \n",
      " 44  destinationAirport_MIA    800000 non-null  bool          \n",
      " 45  destinationAirport_OAK    800000 non-null  bool          \n",
      " 46  destinationAirport_ORD    800000 non-null  bool          \n",
      " 47  destinationAirport_PHL    800000 non-null  bool          \n",
      " 48  destinationAirport_SFO    800000 non-null  bool          \n",
      " 49  cabinClass_basic economy  800000 non-null  bool          \n",
      " 50  binnedSeatsRemaining_1    800000 non-null  bool          \n",
      " 51  binnedSeatsRemaining_2    800000 non-null  bool          \n",
      "dtypes: bool(38), category(1), datetime64[ns](1), float64(2), int32(2), int64(4), object(4)\n",
      "memory usage: 103.0+ MB\n"
     ]
    }
   ],
   "execution_count": 5
  },
  {
   "metadata": {
    "ExecuteTime": {
     "end_time": "2025-03-04T18:40:34.722225Z",
     "start_time": "2025-03-04T18:40:34.719216Z"
    }
   },
   "cell_type": "code",
   "source": "# df_sample.to_csv('data/datasample.csv', index=False)",
   "outputs": [],
   "execution_count": 6
  },
  {
   "metadata": {
    "ExecuteTime": {
     "end_time": "2025-03-04T18:40:34.785361Z",
     "start_time": "2025-03-04T18:40:34.777445Z"
    }
   },
   "cell_type": "code",
   "source": "df_sample.head()",
   "outputs": [
    {
     "data": {
      "text/plain": [
       "  flightDate startingAirport destinationAirport  travelDuration  isRefundable  \\\n",
       "0 2022-04-17             ATL                BOS             149         False   \n",
       "1 2022-04-17             ATL                BOS             150         False   \n",
       "2 2022-04-17             ATL                BOS             150         False   \n",
       "3 2022-04-17             ATL                BOS             152         False   \n",
       "4 2022-04-17             ATL                BOS             154         False   \n",
       "\n",
       "   isNonStop  totalFare  seatsRemaining airlineCode cabinClass  ...  \\\n",
       "0       True      248.6               9                         ...   \n",
       "1       True      248.6               4                         ...   \n",
       "2       True      248.6               9                         ...   \n",
       "3       True      248.6               8                         ...   \n",
       "4       True      248.6               9                         ...   \n",
       "\n",
       "   destinationAirport_LAX  destinationAirport_LGA  destinationAirport_MIA  \\\n",
       "0                   False                   False                   False   \n",
       "1                   False                   False                   False   \n",
       "2                   False                   False                   False   \n",
       "3                   False                   False                   False   \n",
       "4                   False                   False                   False   \n",
       "\n",
       "  destinationAirport_OAK  destinationAirport_ORD  destinationAirport_PHL  \\\n",
       "0                  False                   False                   False   \n",
       "1                  False                   False                   False   \n",
       "2                  False                   False                   False   \n",
       "3                  False                   False                   False   \n",
       "4                  False                   False                   False   \n",
       "\n",
       "   destinationAirport_SFO  cabinClass_basic economy  binnedSeatsRemaining_1  \\\n",
       "0                   False                     False                   False   \n",
       "1                   False                     False                    True   \n",
       "2                   False                     False                   False   \n",
       "3                   False                     False                   False   \n",
       "4                   False                     False                   False   \n",
       "\n",
       "   binnedSeatsRemaining_2  \n",
       "0                    True  \n",
       "1                   False  \n",
       "2                    True  \n",
       "3                    True  \n",
       "4                    True  \n",
       "\n",
       "[5 rows x 52 columns]"
      ],
      "text/html": [
       "<div>\n",
       "<style scoped>\n",
       "    .dataframe tbody tr th:only-of-type {\n",
       "        vertical-align: middle;\n",
       "    }\n",
       "\n",
       "    .dataframe tbody tr th {\n",
       "        vertical-align: top;\n",
       "    }\n",
       "\n",
       "    .dataframe thead th {\n",
       "        text-align: right;\n",
       "    }\n",
       "</style>\n",
       "<table border=\"1\" class=\"dataframe\">\n",
       "  <thead>\n",
       "    <tr style=\"text-align: right;\">\n",
       "      <th></th>\n",
       "      <th>flightDate</th>\n",
       "      <th>startingAirport</th>\n",
       "      <th>destinationAirport</th>\n",
       "      <th>travelDuration</th>\n",
       "      <th>isRefundable</th>\n",
       "      <th>isNonStop</th>\n",
       "      <th>totalFare</th>\n",
       "      <th>seatsRemaining</th>\n",
       "      <th>airlineCode</th>\n",
       "      <th>cabinClass</th>\n",
       "      <th>...</th>\n",
       "      <th>destinationAirport_LAX</th>\n",
       "      <th>destinationAirport_LGA</th>\n",
       "      <th>destinationAirport_MIA</th>\n",
       "      <th>destinationAirport_OAK</th>\n",
       "      <th>destinationAirport_ORD</th>\n",
       "      <th>destinationAirport_PHL</th>\n",
       "      <th>destinationAirport_SFO</th>\n",
       "      <th>cabinClass_basic economy</th>\n",
       "      <th>binnedSeatsRemaining_1</th>\n",
       "      <th>binnedSeatsRemaining_2</th>\n",
       "    </tr>\n",
       "  </thead>\n",
       "  <tbody>\n",
       "    <tr>\n",
       "      <th>0</th>\n",
       "      <td>2022-04-17</td>\n",
       "      <td>ATL</td>\n",
       "      <td>BOS</td>\n",
       "      <td>149</td>\n",
       "      <td>False</td>\n",
       "      <td>True</td>\n",
       "      <td>248.6</td>\n",
       "      <td>9</td>\n",
       "      <td></td>\n",
       "      <td></td>\n",
       "      <td>...</td>\n",
       "      <td>False</td>\n",
       "      <td>False</td>\n",
       "      <td>False</td>\n",
       "      <td>False</td>\n",
       "      <td>False</td>\n",
       "      <td>False</td>\n",
       "      <td>False</td>\n",
       "      <td>False</td>\n",
       "      <td>False</td>\n",
       "      <td>True</td>\n",
       "    </tr>\n",
       "    <tr>\n",
       "      <th>1</th>\n",
       "      <td>2022-04-17</td>\n",
       "      <td>ATL</td>\n",
       "      <td>BOS</td>\n",
       "      <td>150</td>\n",
       "      <td>False</td>\n",
       "      <td>True</td>\n",
       "      <td>248.6</td>\n",
       "      <td>4</td>\n",
       "      <td></td>\n",
       "      <td></td>\n",
       "      <td>...</td>\n",
       "      <td>False</td>\n",
       "      <td>False</td>\n",
       "      <td>False</td>\n",
       "      <td>False</td>\n",
       "      <td>False</td>\n",
       "      <td>False</td>\n",
       "      <td>False</td>\n",
       "      <td>False</td>\n",
       "      <td>True</td>\n",
       "      <td>False</td>\n",
       "    </tr>\n",
       "    <tr>\n",
       "      <th>2</th>\n",
       "      <td>2022-04-17</td>\n",
       "      <td>ATL</td>\n",
       "      <td>BOS</td>\n",
       "      <td>150</td>\n",
       "      <td>False</td>\n",
       "      <td>True</td>\n",
       "      <td>248.6</td>\n",
       "      <td>9</td>\n",
       "      <td></td>\n",
       "      <td></td>\n",
       "      <td>...</td>\n",
       "      <td>False</td>\n",
       "      <td>False</td>\n",
       "      <td>False</td>\n",
       "      <td>False</td>\n",
       "      <td>False</td>\n",
       "      <td>False</td>\n",
       "      <td>False</td>\n",
       "      <td>False</td>\n",
       "      <td>False</td>\n",
       "      <td>True</td>\n",
       "    </tr>\n",
       "    <tr>\n",
       "      <th>3</th>\n",
       "      <td>2022-04-17</td>\n",
       "      <td>ATL</td>\n",
       "      <td>BOS</td>\n",
       "      <td>152</td>\n",
       "      <td>False</td>\n",
       "      <td>True</td>\n",
       "      <td>248.6</td>\n",
       "      <td>8</td>\n",
       "      <td></td>\n",
       "      <td></td>\n",
       "      <td>...</td>\n",
       "      <td>False</td>\n",
       "      <td>False</td>\n",
       "      <td>False</td>\n",
       "      <td>False</td>\n",
       "      <td>False</td>\n",
       "      <td>False</td>\n",
       "      <td>False</td>\n",
       "      <td>False</td>\n",
       "      <td>False</td>\n",
       "      <td>True</td>\n",
       "    </tr>\n",
       "    <tr>\n",
       "      <th>4</th>\n",
       "      <td>2022-04-17</td>\n",
       "      <td>ATL</td>\n",
       "      <td>BOS</td>\n",
       "      <td>154</td>\n",
       "      <td>False</td>\n",
       "      <td>True</td>\n",
       "      <td>248.6</td>\n",
       "      <td>9</td>\n",
       "      <td></td>\n",
       "      <td></td>\n",
       "      <td>...</td>\n",
       "      <td>False</td>\n",
       "      <td>False</td>\n",
       "      <td>False</td>\n",
       "      <td>False</td>\n",
       "      <td>False</td>\n",
       "      <td>False</td>\n",
       "      <td>False</td>\n",
       "      <td>False</td>\n",
       "      <td>False</td>\n",
       "      <td>True</td>\n",
       "    </tr>\n",
       "  </tbody>\n",
       "</table>\n",
       "<p>5 rows × 52 columns</p>\n",
       "</div>"
      ]
     },
     "execution_count": 7,
     "metadata": {},
     "output_type": "execute_result"
    }
   ],
   "execution_count": 7
  },
  {
   "metadata": {
    "ExecuteTime": {
     "end_time": "2025-03-04T18:52:43.859546Z",
     "start_time": "2025-03-04T18:52:43.721139Z"
    }
   },
   "cell_type": "code",
   "source": [
    "import pandas as pd\n",
    "import matplotlib.pyplot as plt\n",
    "\n",
    "grouped = df_sample.groupby(['flightDate', 'startingAirport', 'destinationAirport'])\n",
    "\n",
    "airline_variation = grouped['airlineCode'].nunique().reset_index(name='unique_airlines')\n",
    "\n",
    "summary_stats = airline_variation['unique_airlines'].describe()\n",
    "print(\"Summary statistics for unique airlines per group:\")\n",
    "print(summary_stats)\n",
    "\n",
    "multi_airline_percentage = (airline_variation['unique_airlines'] > 1).mean() * 100\n",
    "print(f\"{multi_airline_percentage:.2f}% of groups have more than one airline.\")\n",
    "\n",
    "plt.hist(airline_variation['unique_airlines'], bins=range(1, airline_variation['unique_airlines'].max()+2), align='left')\n",
    "plt.xlabel(\"Unique Airlines per Group\")\n",
    "plt.ylabel(\"Frequency\")\n",
    "plt.title(\"Distribution of Unique Airlines in Each Group\")\n",
    "plt.show()"
   ],
   "outputs": [
    {
     "name": "stdout",
     "output_type": "stream",
     "text": [
      "Summary statistics for unique airlines per group:\n",
      "count    14270.0\n",
      "mean         1.0\n",
      "std          0.0\n",
      "min          1.0\n",
      "25%          1.0\n",
      "50%          1.0\n",
      "75%          1.0\n",
      "max          1.0\n",
      "Name: unique_airlines, dtype: float64\n",
      "0.00% of groups have more than one airline.\n"
     ]
    },
    {
     "data": {
      "text/plain": [
       "<Figure size 640x480 with 1 Axes>"
      ],
      "image/png": "[encoded data removed]"
     },
     "metadata": {},
     "output_type": "display_data"
    }
   ],
   "execution_count": 15
  },
  {
   "metadata": {},
   "cell_type": "markdown",
   "source": "# RNN"
  },
  {
   "metadata": {
    "ExecuteTime": {
     "end_time": "2025-03-04T18:02:18.852108Z",
     "start_time": "2025-03-04T18:02:18.849488Z"
    }
   },
   "cell_type": "code",
   "outputs": [],
   "execution_count": 8,
   "source": "from sklearn.preprocessing import MinMaxScaler"
  },
  {
   "metadata": {
    "ExecuteTime": {
     "end_time": "2025-03-04T18:52:42.990070Z",
     "start_time": "2025-03-04T18:52:42.986029Z"
    }
   },
   "cell_type": "code",
   "outputs": [],
   "execution_count": 14,
   "source": [
    "def create_sequences_by_group(df, sequence_length):\n",
    "    X_seq_list = []\n",
    "    y_seq_list = []\n",
    "\n",
    "    groups = df.groupby(['flightDate', 'startingAirport', 'destinationAirport'])\n",
    "\n",
    "    for group_keys, group_df in groups:\n",
    "        # Sort the group by daysToDeparture\n",
    "        group_df = group_df.sort_values(\"daysToDeparture\")\n",
    "\n",
    "        # Only build a sequence if the group is large enough.\n",
    "        if len(group_df) <= sequence_length:\n",
    "            continue\n",
    "\n",
    "        # Drop columns that are used for grouping (keep flight date for reference)\n",
    "        X_group = group_df.drop(columns=['totalFare', 'flightDate', 'startingAirport', 'destinationAirport'])\n",
    "\n",
    "        # Dropping Bugged columns for now:\n",
    "        X_group = X_group.drop(columns=['airlineCode', 'cabinClass'])\n",
    "\n",
    "        y_group = group_df['totalFare']\n",
    "\n",
    "        # Ensure the feature data is numeric (convert booleans to float, etc.)\n",
    "        X_group = X_group.astype('float32')\n",
    "\n",
    "        X_values = X_group.to_numpy()\n",
    "        y_values = y_group.to_numpy().reshape(-1, 1)\n",
    "\n",
    "        for i in range(len(X_values) - sequence_length):\n",
    "            X_seq_list.append(X_values[i:i+sequence_length])\n",
    "            y_seq_list.append(y_values[i + sequence_length])\n",
    "\n",
    "    return np.array(X_seq_list), np.array(y_seq_list)\n"
   ]
  },
  {
   "cell_type": "code",
   "metadata": {
    "ExecuteTime": {
     "end_time": "2025-03-04T19:04:28.407345Z",
     "start_time": "2025-03-04T19:04:23.491500Z"
    }
   },
   "source": [
    "sequence_length = 60\n",
    "df_sample = df_sample.fillna(0)\n",
    "X_sequences, y_sequences = create_sequences_by_group(df_sample, sequence_length)\n",
    "\n",
    "print(\"X_sequences shape:\", X_sequences.shape)  # (num_sequences, sequence_length, num_features)\n",
    "print(\"y_sequences shape:\", y_sequences.shape)"
   ],
   "outputs": [
    {
     "name": "stdout",
     "output_type": "stream",
     "text": [
      "X_sequences shape: (186386, 60, 46)\n",
      "y_sequences shape: (186386, 1)\n"
     ]
    }
   ],
   "execution_count": 30
  },
  {
   "metadata": {
    "ExecuteTime": {
     "end_time": "2025-03-04T19:04:28.839684Z",
     "start_time": "2025-03-04T19:04:28.411606Z"
    }
   },
   "cell_type": "code",
   "source": [
    "X_train_seq, X_test_seq, y_train_seq, y_test_seq = train_test_split(\n",
    "    X_sequences, y_sequences, test_size=0.2, random_state=42\n",
    ")\n",
    "\n",
    "num_features = X_train_seq.shape[2]"
   ],
   "outputs": [],
   "execution_count": 31
  },
  {
   "metadata": {
    "ExecuteTime": {
     "end_time": "2025-03-04T19:04:29.711555Z",
     "start_time": "2025-03-04T19:04:28.855413Z"
    }
   },
   "cell_type": "code",
   "source": [
    "scaler_X = MinMaxScaler()\n",
    "X_train_seq_flat = X_train_seq.reshape(-1, num_features)\n",
    "scaler_X.fit(X_train_seq_flat)\n",
    "X_train_seq_scaled = scaler_X.transform(X_train_seq_flat).reshape(X_train_seq.shape)\n",
    "\n",
    "X_test_seq_flat = X_test_seq.reshape(-1, num_features)\n",
    "X_test_seq_scaled = scaler_X.transform(X_test_seq_flat).reshape(X_test_seq.shape)\n",
    "\n",
    "scaler_y = MinMaxScaler()\n",
    "scaler_y.fit(y_train_seq)\n",
    "y_train_seq_scaled = scaler_y.transform(y_train_seq)\n",
    "y_test_seq_scaled = scaler_y.transform(y_test_seq)"
   ],
   "outputs": [],
   "execution_count": 32
  },
  {
   "metadata": {
    "ExecuteTime": {
     "end_time": "2025-03-04T19:04:29.885533Z",
     "start_time": "2025-03-04T19:04:29.728674Z"
    }
   },
   "cell_type": "code",
   "source": [
    "print(\"NaNs in X_train_seq_scaled:\", np.isnan(X_train_seq_scaled).sum())\n",
    "print(\"NaNs in y_train_seq_scaled:\", np.isnan(y_train_seq_scaled).sum())"
   ],
   "outputs": [
    {
     "name": "stdout",
     "output_type": "stream",
     "text": [
      "NaNs in X_train_seq_scaled: 0\n",
      "NaNs in y_train_seq_scaled: 0\n"
     ]
    }
   ],
   "execution_count": 33
  },
  {
   "metadata": {
    "ExecuteTime": {
     "end_time": "2025-03-04T19:04:29.903180Z",
     "start_time": "2025-03-04T19:04:29.901193Z"
    }
   },
   "cell_type": "code",
   "source": [
    "mps_devices = tf.config.list_physical_devices('MPS')\n",
    "if mps_devices:\n",
    "    print(\"Using MPS device\")\n",
    "    device_name = '/device:MPS:0'\n",
    "else:\n",
    "    print(\"MPS device not found, using CPU/GPU\")\n",
    "    device_name = '/device:CPU:0'"
   ],
   "outputs": [
    {
     "name": "stdout",
     "output_type": "stream",
     "text": [
      "MPS device not found, using CPU/GPU\n"
     ]
    }
   ],
   "execution_count": 34
  },
  {
   "metadata": {
    "ExecuteTime": {
     "end_time": "2025-03-04T19:20:41.228687Z",
     "start_time": "2025-03-04T19:04:29.919507Z"
    }
   },
   "cell_type": "code",
   "source": [
    "with tf.device(device_name):\n",
    "    rnn_model = Sequential([\n",
    "        SimpleRNN(50, activation='tanh', input_shape=(sequence_length, num_features)),\n",
    "        Dense(1)  # Regression output for totalFare\n",
    "    ])\n",
    "    rnn_model.compile(optimizer='adam', loss='mse', metrics=['mae'])\n",
    "    print(\"RNN model summary:\")\n",
    "    rnn_model.summary()\n",
    "\n",
    "    history_rnn = rnn_model.fit(\n",
    "        X_train_seq_scaled, y_train_seq_scaled,\n",
    "        epochs=50, batch_size=32,\n",
    "        validation_data=(X_test_seq_scaled, y_test_seq_scaled)\n",
    "    )\n",
    "\n",
    "    # Predict and reverse the scaling for evaluation\n",
    "    y_pred_rnn = rnn_model.predict(X_test_seq_scaled)\n",
    "    y_pred_rnn_original = scaler_y.inverse_transform(y_pred_rnn)\n",
    "    y_test_rnn_original = scaler_y.inverse_transform(y_test_seq_scaled)\n",
    "\n",
    "    mae_rnn = mean_absolute_error(y_test_rnn_original, y_pred_rnn_original)\n",
    "    rmse_rnn = np.sqrt(mean_squared_error(y_test_rnn_original, y_pred_rnn_original))\n",
    "    r2_rnn = r2_score(y_test_rnn_original, y_pred_rnn_original)\n",
    "    print(f\"RNN Model - MAE: {mae_rnn:.2f}, RMSE: {rmse_rnn:.2f}, R²: {r2_rnn:.4f}\")"
   ],
   "outputs": [
    {
     "name": "stdout",
     "output_type": "stream",
     "text": [
      "RNN model summary:\n"
     ]
    },
    {
     "data": {
      "text/plain": [
       "\u001B[1mModel: \"sequential_1\"\u001B[0m\n"
      ],
      "text/html": [
       "<pre style=\"white-space:pre;overflow-x:auto;line-height:normal;font-family:Menlo,'DejaVu Sans Mono',consolas,'Courier New',monospace\"><span style=\"font-weight: bold\">Model: \"sequential_1\"</span>\n",
       "</pre>\n"
      ]
     },
     "metadata": {},
     "output_type": "display_data"
    },
    {
     "data": {
      "text/plain": [
       "┏━━━━━━━━━━━━━━━━━━━━━━━━━━━━━━━━━┳━━━━━━━━━━━━━━━━━━━━━━━━┳━━━━━━━━━━━━━━━┓\n",
       "┃\u001B[1m \u001B[0m\u001B[1mLayer (type)                   \u001B[0m\u001B[1m \u001B[0m┃\u001B[1m \u001B[0m\u001B[1mOutput Shape          \u001B[0m\u001B[1m \u001B[0m┃\u001B[1m \u001B[0m\u001B[1m      Param #\u001B[0m\u001B[1m \u001B[0m┃\n",
       "┡━━━━━━━━━━━━━━━━━━━━━━━━━━━━━━━━━╇━━━━━━━━━━━━━━━━━━━━━━━━╇━━━━━━━━━━━━━━━┩\n",
       "│ simple_rnn_1 (\u001B[38;5;33mSimpleRNN\u001B[0m)        │ (\u001B[38;5;45mNone\u001B[0m, \u001B[38;5;34m50\u001B[0m)             │         \u001B[38;5;34m4,850\u001B[0m │\n",
       "├─────────────────────────────────┼────────────────────────┼───────────────┤\n",
       "│ dense_1 (\u001B[38;5;33mDense\u001B[0m)                 │ (\u001B[38;5;45mNone\u001B[0m, \u001B[38;5;34m1\u001B[0m)              │            \u001B[38;5;34m51\u001B[0m │\n",
       "└─────────────────────────────────┴────────────────────────┴───────────────┘\n"
      ],
      "text/html": [
       "<pre style=\"white-space:pre;overflow-x:auto;line-height:normal;font-family:Menlo,'DejaVu Sans Mono',consolas,'Courier New',monospace\">┏━━━━━━━━━━━━━━━━━━━━━━━━━━━━━━━━━┳━━━━━━━━━━━━━━━━━━━━━━━━┳━━━━━━━━━━━━━━━┓\n",
       "┃<span style=\"font-weight: bold\"> Layer (type)                    </span>┃<span style=\"font-weight: bold\"> Output Shape           </span>┃<span style=\"font-weight: bold\">       Param # </span>┃\n",
       "┡━━━━━━━━━━━━━━━━━━━━━━━━━━━━━━━━━╇━━━━━━━━━━━━━━━━━━━━━━━━╇━━━━━━━━━━━━━━━┩\n",
       "│ simple_rnn_1 (<span style=\"color: #0087ff; text-decoration-color: #0087ff\">SimpleRNN</span>)        │ (<span style=\"color: #00d7ff; text-decoration-color: #00d7ff\">None</span>, <span style=\"color: #00af00; text-decoration-color: #00af00\">50</span>)             │         <span style=\"color: #00af00; text-decoration-color: #00af00\">4,850</span> │\n",
       "├─────────────────────────────────┼────────────────────────┼───────────────┤\n",
       "│ dense_1 (<span style=\"color: #0087ff; text-decoration-color: #0087ff\">Dense</span>)                 │ (<span style=\"color: #00d7ff; text-decoration-color: #00d7ff\">None</span>, <span style=\"color: #00af00; text-decoration-color: #00af00\">1</span>)              │            <span style=\"color: #00af00; text-decoration-color: #00af00\">51</span> │\n",
       "└─────────────────────────────────┴────────────────────────┴───────────────┘\n",
       "</pre>\n"
      ]
     },
     "metadata": {},
     "output_type": "display_data"
    },
    {
     "data": {
      "text/plain": [
       "\u001B[1m Total params: \u001B[0m\u001B[38;5;34m4,901\u001B[0m (19.14 KB)\n"
      ],
      "text/html": [
       "<pre style=\"white-space:pre;overflow-x:auto;line-height:normal;font-family:Menlo,'DejaVu Sans Mono',consolas,'Courier New',monospace\"><span style=\"font-weight: bold\"> Total params: </span><span style=\"color: #00af00; text-decoration-color: #00af00\">4,901</span> (19.14 KB)\n",
       "</pre>\n"
      ]
     },
     "metadata": {},
     "output_type": "display_data"
    },
    {
     "data": {
      "text/plain": [
       "\u001B[1m Trainable params: \u001B[0m\u001B[38;5;34m4,901\u001B[0m (19.14 KB)\n"
      ],
      "text/html": [
       "<pre style=\"white-space:pre;overflow-x:auto;line-height:normal;font-family:Menlo,'DejaVu Sans Mono',consolas,'Courier New',monospace\"><span style=\"font-weight: bold\"> Trainable params: </span><span style=\"color: #00af00; text-decoration-color: #00af00\">4,901</span> (19.14 KB)\n",
       "</pre>\n"
      ]
     },
     "metadata": {},
     "output_type": "display_data"
    },
    {
     "data": {
      "text/plain": [
       "\u001B[1m Non-trainable params: \u001B[0m\u001B[38;5;34m0\u001B[0m (0.00 B)\n"
      ],
      "text/html": [
       "<pre style=\"white-space:pre;overflow-x:auto;line-height:normal;font-family:Menlo,'DejaVu Sans Mono',consolas,'Courier New',monospace\"><span style=\"font-weight: bold\"> Non-trainable params: </span><span style=\"color: #00af00; text-decoration-color: #00af00\">0</span> (0.00 B)\n",
       "</pre>\n"
      ]
     },
     "metadata": {},
     "output_type": "display_data"
    },
    {
     "name": "stdout",
     "output_type": "stream",
     "text": [
      "Epoch 1/50\n",
      "\u001B[1m4660/4660\u001B[0m \u001B[32m━━━━━━━━━━━━━━━━━━━━\u001B[0m\u001B[37m\u001B[0m \u001B[1m21s\u001B[0m 4ms/step - loss: 0.0142 - mae: 0.0626 - val_loss: 0.0029 - val_mae: 0.0334\n",
      "Epoch 2/50\n",
      "\u001B[1m4660/4660\u001B[0m \u001B[32m━━━━━━━━━━━━━━━━━━━━\u001B[0m\u001B[37m\u001B[0m \u001B[1m20s\u001B[0m 4ms/step - loss: 0.0031 - mae: 0.0332 - val_loss: 0.0032 - val_mae: 0.0325\n",
      "Epoch 3/50\n",
      "\u001B[1m4660/4660\u001B[0m \u001B[32m━━━━━━━━━━━━━━━━━━━━\u001B[0m\u001B[37m\u001B[0m \u001B[1m21s\u001B[0m 5ms/step - loss: 0.0030 - mae: 0.0311 - val_loss: 0.0025 - val_mae: 0.0271\n",
      "Epoch 4/50\n",
      "\u001B[1m4660/4660\u001B[0m \u001B[32m━━━━━━━━━━━━━━━━━━━━\u001B[0m\u001B[37m\u001B[0m \u001B[1m21s\u001B[0m 5ms/step - loss: 0.0028 - mae: 0.0302 - val_loss: 0.0025 - val_mae: 0.0292\n",
      "Epoch 5/50\n",
      "\u001B[1m4660/4660\u001B[0m \u001B[32m━━━━━━━━━━━━━━━━━━━━\u001B[0m\u001B[37m\u001B[0m \u001B[1m21s\u001B[0m 5ms/step - loss: 0.0026 - mae: 0.0292 - val_loss: 0.0024 - val_mae: 0.0262\n",
      "Epoch 6/50\n",
      "\u001B[1m4660/4660\u001B[0m \u001B[32m━━━━━━━━━━━━━━━━━━━━\u001B[0m\u001B[37m\u001B[0m \u001B[1m20s\u001B[0m 4ms/step - loss: 0.0028 - mae: 0.0294 - val_loss: 0.0027 - val_mae: 0.0325\n",
      "Epoch 7/50\n",
      "\u001B[1m4660/4660\u001B[0m \u001B[32m━━━━━━━━━━━━━━━━━━━━\u001B[0m\u001B[37m\u001B[0m \u001B[1m19s\u001B[0m 4ms/step - loss: 0.0027 - mae: 0.0289 - val_loss: 0.0024 - val_mae: 0.0273\n",
      "Epoch 8/50\n",
      "\u001B[1m4660/4660\u001B[0m \u001B[32m━━━━━━━━━━━━━━━━━━━━\u001B[0m\u001B[37m\u001B[0m \u001B[1m21s\u001B[0m 5ms/step - loss: 0.0026 - mae: 0.0283 - val_loss: 0.0028 - val_mae: 0.0348\n",
      "Epoch 9/50\n",
      "\u001B[1m4660/4660\u001B[0m \u001B[32m━━━━━━━━━━━━━━━━━━━━\u001B[0m\u001B[37m\u001B[0m \u001B[1m21s\u001B[0m 5ms/step - loss: 0.0026 - mae: 0.0285 - val_loss: 0.0023 - val_mae: 0.0261\n",
      "Epoch 10/50\n",
      "\u001B[1m4660/4660\u001B[0m \u001B[32m━━━━━━━━━━━━━━━━━━━━\u001B[0m\u001B[37m\u001B[0m \u001B[1m20s\u001B[0m 4ms/step - loss: 0.0026 - mae: 0.0284 - val_loss: 0.0024 - val_mae: 0.0289\n",
      "Epoch 11/50\n",
      "\u001B[1m4660/4660\u001B[0m \u001B[32m━━━━━━━━━━━━━━━━━━━━\u001B[0m\u001B[37m\u001B[0m \u001B[1m21s\u001B[0m 5ms/step - loss: 0.0027 - mae: 0.0288 - val_loss: 0.0024 - val_mae: 0.0248\n",
      "Epoch 12/50\n",
      "\u001B[1m4660/4660\u001B[0m \u001B[32m━━━━━━━━━━━━━━━━━━━━\u001B[0m\u001B[37m\u001B[0m \u001B[1m19s\u001B[0m 4ms/step - loss: 0.0027 - mae: 0.0288 - val_loss: 0.0025 - val_mae: 0.0323\n",
      "Epoch 13/50\n",
      "\u001B[1m4660/4660\u001B[0m \u001B[32m━━━━━━━━━━━━━━━━━━━━\u001B[0m\u001B[37m\u001B[0m \u001B[1m20s\u001B[0m 4ms/step - loss: 0.0026 - mae: 0.0282 - val_loss: 0.0023 - val_mae: 0.0247\n",
      "Epoch 14/50\n",
      "\u001B[1m4660/4660\u001B[0m \u001B[32m━━━━━━━━━━━━━━━━━━━━\u001B[0m\u001B[37m\u001B[0m \u001B[1m20s\u001B[0m 4ms/step - loss: 0.0026 - mae: 0.0283 - val_loss: 0.0023 - val_mae: 0.0250\n",
      "Epoch 15/50\n",
      "\u001B[1m4660/4660\u001B[0m \u001B[32m━━━━━━━━━━━━━━━━━━━━\u001B[0m\u001B[37m\u001B[0m \u001B[1m20s\u001B[0m 4ms/step - loss: 0.0026 - mae: 0.0282 - val_loss: 0.0025 - val_mae: 0.0268\n",
      "Epoch 16/50\n",
      "\u001B[1m4660/4660\u001B[0m \u001B[32m━━━━━━━━━━━━━━━━━━━━\u001B[0m\u001B[37m\u001B[0m \u001B[1m19s\u001B[0m 4ms/step - loss: 0.0025 - mae: 0.0279 - val_loss: 0.0024 - val_mae: 0.0301\n",
      "Epoch 17/50\n",
      "\u001B[1m4660/4660\u001B[0m \u001B[32m━━━━━━━━━━━━━━━━━━━━\u001B[0m\u001B[37m\u001B[0m \u001B[1m19s\u001B[0m 4ms/step - loss: 0.0026 - mae: 0.0278 - val_loss: 0.0024 - val_mae: 0.0290\n",
      "Epoch 18/50\n",
      "\u001B[1m4660/4660\u001B[0m \u001B[32m━━━━━━━━━━━━━━━━━━━━\u001B[0m\u001B[37m\u001B[0m \u001B[1m19s\u001B[0m 4ms/step - loss: 0.0026 - mae: 0.0284 - val_loss: 0.0023 - val_mae: 0.0248\n",
      "Epoch 19/50\n",
      "\u001B[1m4660/4660\u001B[0m \u001B[32m━━━━━━━━━━━━━━━━━━━━\u001B[0m\u001B[37m\u001B[0m \u001B[1m19s\u001B[0m 4ms/step - loss: 0.0026 - mae: 0.0280 - val_loss: 0.0023 - val_mae: 0.0246\n",
      "Epoch 20/50\n",
      "\u001B[1m4660/4660\u001B[0m \u001B[32m━━━━━━━━━━━━━━━━━━━━\u001B[0m\u001B[37m\u001B[0m \u001B[1m19s\u001B[0m 4ms/step - loss: 0.0025 - mae: 0.0274 - val_loss: 0.0024 - val_mae: 0.0257\n",
      "Epoch 21/50\n",
      "\u001B[1m4660/4660\u001B[0m \u001B[32m━━━━━━━━━━━━━━━━━━━━\u001B[0m\u001B[37m\u001B[0m \u001B[1m19s\u001B[0m 4ms/step - loss: 0.0025 - mae: 0.0276 - val_loss: 0.0023 - val_mae: 0.0247\n",
      "Epoch 22/50\n",
      "\u001B[1m4660/4660\u001B[0m \u001B[32m━━━━━━━━━━━━━━━━━━━━\u001B[0m\u001B[37m\u001B[0m \u001B[1m19s\u001B[0m 4ms/step - loss: 0.0025 - mae: 0.0275 - val_loss: 0.0024 - val_mae: 0.0299\n",
      "Epoch 23/50\n",
      "\u001B[1m4660/4660\u001B[0m \u001B[32m━━━━━━━━━━━━━━━━━━━━\u001B[0m\u001B[37m\u001B[0m \u001B[1m20s\u001B[0m 4ms/step - loss: 0.0025 - mae: 0.0276 - val_loss: 0.0025 - val_mae: 0.0331\n",
      "Epoch 24/50\n",
      "\u001B[1m4660/4660\u001B[0m \u001B[32m━━━━━━━━━━━━━━━━━━━━\u001B[0m\u001B[37m\u001B[0m \u001B[1m20s\u001B[0m 4ms/step - loss: 0.0025 - mae: 0.0280 - val_loss: 0.0024 - val_mae: 0.0266\n",
      "Epoch 25/50\n",
      "\u001B[1m4660/4660\u001B[0m \u001B[32m━━━━━━━━━━━━━━━━━━━━\u001B[0m\u001B[37m\u001B[0m \u001B[1m20s\u001B[0m 4ms/step - loss: 0.0026 - mae: 0.0280 - val_loss: 0.0022 - val_mae: 0.0256\n",
      "Epoch 26/50\n",
      "\u001B[1m4660/4660\u001B[0m \u001B[32m━━━━━━━━━━━━━━━━━━━━\u001B[0m\u001B[37m\u001B[0m \u001B[1m20s\u001B[0m 4ms/step - loss: 0.0026 - mae: 0.0277 - val_loss: 0.0026 - val_mae: 0.0288\n",
      "Epoch 27/50\n",
      "\u001B[1m4660/4660\u001B[0m \u001B[32m━━━━━━━━━━━━━━━━━━━━\u001B[0m\u001B[37m\u001B[0m \u001B[1m19s\u001B[0m 4ms/step - loss: 0.0025 - mae: 0.0275 - val_loss: 0.0022 - val_mae: 0.0248\n",
      "Epoch 28/50\n",
      "\u001B[1m4660/4660\u001B[0m \u001B[32m━━━━━━━━━━━━━━━━━━━━\u001B[0m\u001B[37m\u001B[0m \u001B[1m19s\u001B[0m 4ms/step - loss: 0.0025 - mae: 0.0275 - val_loss: 0.0023 - val_mae: 0.0250\n",
      "Epoch 29/50\n",
      "\u001B[1m4660/4660\u001B[0m \u001B[32m━━━━━━━━━━━━━━━━━━━━\u001B[0m\u001B[37m\u001B[0m \u001B[1m19s\u001B[0m 4ms/step - loss: 0.0026 - mae: 0.0281 - val_loss: 0.0026 - val_mae: 0.0277\n",
      "Epoch 30/50\n",
      "\u001B[1m4660/4660\u001B[0m \u001B[32m━━━━━━━━━━━━━━━━━━━━\u001B[0m\u001B[37m\u001B[0m \u001B[1m19s\u001B[0m 4ms/step - loss: 0.0025 - mae: 0.0275 - val_loss: 0.0024 - val_mae: 0.0264\n",
      "Epoch 31/50\n",
      "\u001B[1m4660/4660\u001B[0m \u001B[32m━━━━━━━━━━━━━━━━━━━━\u001B[0m\u001B[37m\u001B[0m \u001B[1m19s\u001B[0m 4ms/step - loss: 0.0025 - mae: 0.0278 - val_loss: 0.0025 - val_mae: 0.0279\n",
      "Epoch 32/50\n",
      "\u001B[1m4660/4660\u001B[0m \u001B[32m━━━━━━━━━━━━━━━━━━━━\u001B[0m\u001B[37m\u001B[0m \u001B[1m19s\u001B[0m 4ms/step - loss: 0.0025 - mae: 0.0276 - val_loss: 0.0025 - val_mae: 0.0271\n",
      "Epoch 33/50\n",
      "\u001B[1m4660/4660\u001B[0m \u001B[32m━━━━━━━━━━━━━━━━━━━━\u001B[0m\u001B[37m\u001B[0m \u001B[1m19s\u001B[0m 4ms/step - loss: 0.0025 - mae: 0.0275 - val_loss: 0.0023 - val_mae: 0.0263\n",
      "Epoch 34/50\n",
      "\u001B[1m4660/4660\u001B[0m \u001B[32m━━━━━━━━━━━━━━━━━━━━\u001B[0m\u001B[37m\u001B[0m \u001B[1m18s\u001B[0m 4ms/step - loss: 0.0024 - mae: 0.0273 - val_loss: 0.0022 - val_mae: 0.0253\n",
      "Epoch 35/50\n",
      "\u001B[1m4660/4660\u001B[0m \u001B[32m━━━━━━━━━━━━━━━━━━━━\u001B[0m\u001B[37m\u001B[0m \u001B[1m19s\u001B[0m 4ms/step - loss: 0.0025 - mae: 0.0273 - val_loss: 0.0022 - val_mae: 0.0248\n",
      "Epoch 36/50\n",
      "\u001B[1m4660/4660\u001B[0m \u001B[32m━━━━━━━━━━━━━━━━━━━━\u001B[0m\u001B[37m\u001B[0m \u001B[1m19s\u001B[0m 4ms/step - loss: 0.0025 - mae: 0.0273 - val_loss: 0.0023 - val_mae: 0.0251\n",
      "Epoch 37/50\n",
      "\u001B[1m4660/4660\u001B[0m \u001B[32m━━━━━━━━━━━━━━━━━━━━\u001B[0m\u001B[37m\u001B[0m \u001B[1m19s\u001B[0m 4ms/step - loss: 0.0025 - mae: 0.0276 - val_loss: 0.0022 - val_mae: 0.0245\n",
      "Epoch 38/50\n",
      "\u001B[1m4660/4660\u001B[0m \u001B[32m━━━━━━━━━━━━━━━━━━━━\u001B[0m\u001B[37m\u001B[0m \u001B[1m19s\u001B[0m 4ms/step - loss: 0.0025 - mae: 0.0274 - val_loss: 0.0022 - val_mae: 0.0242\n",
      "Epoch 39/50\n",
      "\u001B[1m4660/4660\u001B[0m \u001B[32m━━━━━━━━━━━━━━━━━━━━\u001B[0m\u001B[37m\u001B[0m \u001B[1m18s\u001B[0m 4ms/step - loss: 0.0025 - mae: 0.0274 - val_loss: 0.0028 - val_mae: 0.0315\n",
      "Epoch 40/50\n",
      "\u001B[1m4660/4660\u001B[0m \u001B[32m━━━━━━━━━━━━━━━━━━━━\u001B[0m\u001B[37m\u001B[0m \u001B[1m19s\u001B[0m 4ms/step - loss: 0.0024 - mae: 0.0273 - val_loss: 0.0022 - val_mae: 0.0260\n",
      "Epoch 41/50\n",
      "\u001B[1m4660/4660\u001B[0m \u001B[32m━━━━━━━━━━━━━━━━━━━━\u001B[0m\u001B[37m\u001B[0m \u001B[1m19s\u001B[0m 4ms/step - loss: 0.0024 - mae: 0.0270 - val_loss: 0.0025 - val_mae: 0.0269\n",
      "Epoch 42/50\n",
      "\u001B[1m4660/4660\u001B[0m \u001B[32m━━━━━━━━━━━━━━━━━━━━\u001B[0m\u001B[37m\u001B[0m \u001B[1m19s\u001B[0m 4ms/step - loss: 0.0024 - mae: 0.0271 - val_loss: 0.0022 - val_mae: 0.0269\n",
      "Epoch 43/50\n",
      "\u001B[1m4660/4660\u001B[0m \u001B[32m━━━━━━━━━━━━━━━━━━━━\u001B[0m\u001B[37m\u001B[0m \u001B[1m19s\u001B[0m 4ms/step - loss: 0.0024 - mae: 0.0272 - val_loss: 0.0023 - val_mae: 0.0250\n",
      "Epoch 44/50\n",
      "\u001B[1m4660/4660\u001B[0m \u001B[32m━━━━━━━━━━━━━━━━━━━━\u001B[0m\u001B[37m\u001B[0m \u001B[1m19s\u001B[0m 4ms/step - loss: 0.0024 - mae: 0.0272 - val_loss: 0.0025 - val_mae: 0.0308\n",
      "Epoch 45/50\n",
      "\u001B[1m4660/4660\u001B[0m \u001B[32m━━━━━━━━━━━━━━━━━━━━\u001B[0m\u001B[37m\u001B[0m \u001B[1m19s\u001B[0m 4ms/step - loss: 0.0024 - mae: 0.0269 - val_loss: 0.0022 - val_mae: 0.0259\n",
      "Epoch 46/50\n",
      "\u001B[1m4660/4660\u001B[0m \u001B[32m━━━━━━━━━━━━━━━━━━━━\u001B[0m\u001B[37m\u001B[0m \u001B[1m19s\u001B[0m 4ms/step - loss: 0.0025 - mae: 0.0272 - val_loss: 0.0023 - val_mae: 0.0248\n",
      "Epoch 47/50\n",
      "\u001B[1m4660/4660\u001B[0m \u001B[32m━━━━━━━━━━━━━━━━━━━━\u001B[0m\u001B[37m\u001B[0m \u001B[1m18s\u001B[0m 4ms/step - loss: 0.0025 - mae: 0.0274 - val_loss: 0.0024 - val_mae: 0.0258\n",
      "Epoch 48/50\n",
      "\u001B[1m4660/4660\u001B[0m \u001B[32m━━━━━━━━━━━━━━━━━━━━\u001B[0m\u001B[37m\u001B[0m \u001B[1m18s\u001B[0m 4ms/step - loss: 0.0024 - mae: 0.0271 - val_loss: 0.0022 - val_mae: 0.0262\n",
      "Epoch 49/50\n",
      "\u001B[1m4660/4660\u001B[0m \u001B[32m━━━━━━━━━━━━━━━━━━━━\u001B[0m\u001B[37m\u001B[0m \u001B[1m19s\u001B[0m 4ms/step - loss: 0.0024 - mae: 0.0272 - val_loss: 0.0022 - val_mae: 0.0240\n",
      "Epoch 50/50\n",
      "\u001B[1m4660/4660\u001B[0m \u001B[32m━━━━━━━━━━━━━━━━━━━━\u001B[0m\u001B[37m\u001B[0m \u001B[1m18s\u001B[0m 4ms/step - loss: 0.0024 - mae: 0.0268 - val_loss: 0.0022 - val_mae: 0.0241\n",
      "\u001B[1m1165/1165\u001B[0m \u001B[32m━━━━━━━━━━━━━━━━━━━━\u001B[0m\u001B[37m\u001B[0m \u001B[1m1s\u001B[0m 1ms/step\n",
      "RNN Model - MAE: 85.46, RMSE: 166.38, R²: 0.4244\n"
     ]
    }
   ],
   "execution_count": 35
  },
  {
   "cell_type": "code",
   "metadata": {
    "ExecuteTime": {
     "end_time": "2025-03-04T20:01:28.222633Z",
     "start_time": "2025-03-04T19:24:21.840483Z"
    }
   },
   "source": [
    "with tf.device(device_name):\n",
    "    lstm_model = Sequential([\n",
    "        LSTM(50, activation='tanh', input_shape=(sequence_length, num_features)),\n",
    "        Dense(1)\n",
    "    ])\n",
    "    lstm_model.compile(optimizer='adam', loss='mse', metrics=['mae'])\n",
    "    print(\"LSTM model summary:\")\n",
    "    lstm_model.summary()\n",
    "\n",
    "    history_lstm = lstm_model.fit(\n",
    "        X_train_seq_scaled, y_train_seq_scaled,\n",
    "        epochs=50, batch_size=32,\n",
    "        validation_data=(X_test_seq_scaled, y_test_seq_scaled)\n",
    "    )\n",
    "\n",
    "    # Predict and reverse the scaling for evaluation\n",
    "    y_pred_lstm = lstm_model.predict(X_test_seq_scaled)\n",
    "    y_pred_lstm_original = scaler_y.inverse_transform(y_pred_lstm)\n",
    "    y_test_lstm_original = scaler_y.inverse_transform(y_test_seq_scaled)\n",
    "\n",
    "    mae_lstm = mean_absolute_error(y_test_lstm_original, y_pred_lstm_original)\n",
    "    rmse_lstm = np.sqrt(mean_squared_error(y_test_lstm_original, y_pred_lstm_original))\n",
    "    r2_lstm = r2_score(y_test_lstm_original, y_pred_lstm_original)\n",
    "    print(f\"LSTM Model - MAE: {mae_lstm:.2f}, RMSE: {rmse_lstm:.2f}, R²: {r2_lstm:.4f}\")"
   ],
   "outputs": [
    {
     "name": "stdout",
     "output_type": "stream",
     "text": [
      "LSTM model summary:\n"
     ]
    },
    {
     "data": {
      "text/plain": [
       "\u001B[1mModel: \"sequential_2\"\u001B[0m\n"
      ],
      "text/html": [
       "<pre style=\"white-space:pre;overflow-x:auto;line-height:normal;font-family:Menlo,'DejaVu Sans Mono',consolas,'Courier New',monospace\"><span style=\"font-weight: bold\">Model: \"sequential_2\"</span>\n",
       "</pre>\n"
      ]
     },
     "metadata": {},
     "output_type": "display_data"
    },
    {
     "data": {
      "text/plain": [
       "┏━━━━━━━━━━━━━━━━━━━━━━━━━━━━━━━━━┳━━━━━━━━━━━━━━━━━━━━━━━━┳━━━━━━━━━━━━━━━┓\n",
       "┃\u001B[1m \u001B[0m\u001B[1mLayer (type)                   \u001B[0m\u001B[1m \u001B[0m┃\u001B[1m \u001B[0m\u001B[1mOutput Shape          \u001B[0m\u001B[1m \u001B[0m┃\u001B[1m \u001B[0m\u001B[1m      Param #\u001B[0m\u001B[1m \u001B[0m┃\n",
       "┡━━━━━━━━━━━━━━━━━━━━━━━━━━━━━━━━━╇━━━━━━━━━━━━━━━━━━━━━━━━╇━━━━━━━━━━━━━━━┩\n",
       "│ lstm (\u001B[38;5;33mLSTM\u001B[0m)                     │ (\u001B[38;5;45mNone\u001B[0m, \u001B[38;5;34m50\u001B[0m)             │        \u001B[38;5;34m19,400\u001B[0m │\n",
       "├─────────────────────────────────┼────────────────────────┼───────────────┤\n",
       "│ dense_2 (\u001B[38;5;33mDense\u001B[0m)                 │ (\u001B[38;5;45mNone\u001B[0m, \u001B[38;5;34m1\u001B[0m)              │            \u001B[38;5;34m51\u001B[0m │\n",
       "└─────────────────────────────────┴────────────────────────┴───────────────┘\n"
      ],
      "text/html": [
       "<pre style=\"white-space:pre;overflow-x:auto;line-height:normal;font-family:Menlo,'DejaVu Sans Mono',consolas,'Courier New',monospace\">┏━━━━━━━━━━━━━━━━━━━━━━━━━━━━━━━━━┳━━━━━━━━━━━━━━━━━━━━━━━━┳━━━━━━━━━━━━━━━┓\n",
       "┃<span style=\"font-weight: bold\"> Layer (type)                    </span>┃<span style=\"font-weight: bold\"> Output Shape           </span>┃<span style=\"font-weight: bold\">       Param # </span>┃\n",
       "┡━━━━━━━━━━━━━━━━━━━━━━━━━━━━━━━━━╇━━━━━━━━━━━━━━━━━━━━━━━━╇━━━━━━━━━━━━━━━┩\n",
       "│ lstm (<span style=\"color: #0087ff; text-decoration-color: #0087ff\">LSTM</span>)                     │ (<span style=\"color: #00d7ff; text-decoration-color: #00d7ff\">None</span>, <span style=\"color: #00af00; text-decoration-color: #00af00\">50</span>)             │        <span style=\"color: #00af00; text-decoration-color: #00af00\">19,400</span> │\n",
       "├─────────────────────────────────┼────────────────────────┼───────────────┤\n",
       "│ dense_2 (<span style=\"color: #0087ff; text-decoration-color: #0087ff\">Dense</span>)                 │ (<span style=\"color: #00d7ff; text-decoration-color: #00d7ff\">None</span>, <span style=\"color: #00af00; text-decoration-color: #00af00\">1</span>)              │            <span style=\"color: #00af00; text-decoration-color: #00af00\">51</span> │\n",
       "└─────────────────────────────────┴────────────────────────┴───────────────┘\n",
       "</pre>\n"
      ]
     },
     "metadata": {},
     "output_type": "display_data"
    },
    {
     "data": {
      "text/plain": [
       "\u001B[1m Total params: \u001B[0m\u001B[38;5;34m19,451\u001B[0m (75.98 KB)\n"
      ],
      "text/html": [
       "<pre style=\"white-space:pre;overflow-x:auto;line-height:normal;font-family:Menlo,'DejaVu Sans Mono',consolas,'Courier New',monospace\"><span style=\"font-weight: bold\"> Total params: </span><span style=\"color: #00af00; text-decoration-color: #00af00\">19,451</span> (75.98 KB)\n",
       "</pre>\n"
      ]
     },
     "metadata": {},
     "output_type": "display_data"
    },
    {
     "data": {
      "text/plain": [
       "\u001B[1m Trainable params: \u001B[0m\u001B[38;5;34m19,451\u001B[0m (75.98 KB)\n"
      ],
      "text/html": [
       "<pre style=\"white-space:pre;overflow-x:auto;line-height:normal;font-family:Menlo,'DejaVu Sans Mono',consolas,'Courier New',monospace\"><span style=\"font-weight: bold\"> Trainable params: </span><span style=\"color: #00af00; text-decoration-color: #00af00\">19,451</span> (75.98 KB)\n",
       "</pre>\n"
      ]
     },
     "metadata": {},
     "output_type": "display_data"
    },
    {
     "data": {
      "text/plain": [
       "\u001B[1m Non-trainable params: \u001B[0m\u001B[38;5;34m0\u001B[0m (0.00 B)\n"
      ],
      "text/html": [
       "<pre style=\"white-space:pre;overflow-x:auto;line-height:normal;font-family:Menlo,'DejaVu Sans Mono',consolas,'Courier New',monospace\"><span style=\"font-weight: bold\"> Non-trainable params: </span><span style=\"color: #00af00; text-decoration-color: #00af00\">0</span> (0.00 B)\n",
       "</pre>\n"
      ]
     },
     "metadata": {},
     "output_type": "display_data"
    },
    {
     "name": "stdout",
     "output_type": "stream",
     "text": [
      "Epoch 1/50\n",
      "\u001B[1m4660/4660\u001B[0m \u001B[32m━━━━━━━━━━━━━━━━━━━━\u001B[0m\u001B[37m\u001B[0m \u001B[1m46s\u001B[0m 10ms/step - loss: 0.0038 - mae: 0.0352 - val_loss: 0.0024 - val_mae: 0.0267\n",
      "Epoch 2/50\n",
      "\u001B[1m4660/4660\u001B[0m \u001B[32m━━━━━━━━━━━━━━━━━━━━\u001B[0m\u001B[37m\u001B[0m \u001B[1m45s\u001B[0m 10ms/step - loss: 0.0027 - mae: 0.0279 - val_loss: 0.0023 - val_mae: 0.0256\n",
      "Epoch 3/50\n",
      "\u001B[1m4660/4660\u001B[0m \u001B[32m━━━━━━━━━━━━━━━━━━━━\u001B[0m\u001B[37m\u001B[0m \u001B[1m43s\u001B[0m 9ms/step - loss: 0.0025 - mae: 0.0267 - val_loss: 0.0024 - val_mae: 0.0293\n",
      "Epoch 4/50\n",
      "\u001B[1m4660/4660\u001B[0m \u001B[32m━━━━━━━━━━━━━━━━━━━━\u001B[0m\u001B[37m\u001B[0m \u001B[1m45s\u001B[0m 10ms/step - loss: 0.0025 - mae: 0.0263 - val_loss: 0.0022 - val_mae: 0.0259\n",
      "Epoch 5/50\n",
      "\u001B[1m4660/4660\u001B[0m \u001B[32m━━━━━━━━━━━━━━━━━━━━\u001B[0m\u001B[37m\u001B[0m \u001B[1m46s\u001B[0m 10ms/step - loss: 0.0024 - mae: 0.0254 - val_loss: 0.0022 - val_mae: 0.0237\n",
      "Epoch 6/50\n",
      "\u001B[1m4660/4660\u001B[0m \u001B[32m━━━━━━━━━━━━━━━━━━━━\u001B[0m\u001B[37m\u001B[0m \u001B[1m44s\u001B[0m 10ms/step - loss: 0.0024 - mae: 0.0250 - val_loss: 0.0021 - val_mae: 0.0251\n",
      "Epoch 7/50\n",
      "\u001B[1m4660/4660\u001B[0m \u001B[32m━━━━━━━━━━━━━━━━━━━━\u001B[0m\u001B[37m\u001B[0m \u001B[1m43s\u001B[0m 9ms/step - loss: 0.0023 - mae: 0.0247 - val_loss: 0.0021 - val_mae: 0.0236\n",
      "Epoch 8/50\n",
      "\u001B[1m4660/4660\u001B[0m \u001B[32m━━━━━━━━━━━━━━━━━━━━\u001B[0m\u001B[37m\u001B[0m \u001B[1m44s\u001B[0m 9ms/step - loss: 0.0023 - mae: 0.0246 - val_loss: 0.0021 - val_mae: 0.0233\n",
      "Epoch 9/50\n",
      "\u001B[1m4660/4660\u001B[0m \u001B[32m━━━━━━━━━━━━━━━━━━━━\u001B[0m\u001B[37m\u001B[0m \u001B[1m45s\u001B[0m 10ms/step - loss: 0.0022 - mae: 0.0242 - val_loss: 0.0021 - val_mae: 0.0235\n",
      "Epoch 10/50\n",
      "\u001B[1m4660/4660\u001B[0m \u001B[32m━━━━━━━━━━━━━━━━━━━━\u001B[0m\u001B[37m\u001B[0m \u001B[1m44s\u001B[0m 9ms/step - loss: 0.0021 - mae: 0.0239 - val_loss: 0.0021 - val_mae: 0.0248\n",
      "Epoch 11/50\n",
      "\u001B[1m4660/4660\u001B[0m \u001B[32m━━━━━━━━━━━━━━━━━━━━\u001B[0m\u001B[37m\u001B[0m \u001B[1m42s\u001B[0m 9ms/step - loss: 0.0021 - mae: 0.0238 - val_loss: 0.0021 - val_mae: 0.0245\n",
      "Epoch 12/50\n",
      "\u001B[1m4660/4660\u001B[0m \u001B[32m━━━━━━━━━━━━━━━━━━━━\u001B[0m\u001B[37m\u001B[0m \u001B[1m42s\u001B[0m 9ms/step - loss: 0.0020 - mae: 0.0234 - val_loss: 0.0020 - val_mae: 0.0236\n",
      "Epoch 13/50\n",
      "\u001B[1m4660/4660\u001B[0m \u001B[32m━━━━━━━━━━━━━━━━━━━━\u001B[0m\u001B[37m\u001B[0m \u001B[1m44s\u001B[0m 9ms/step - loss: 0.0020 - mae: 0.0234 - val_loss: 0.0020 - val_mae: 0.0229\n",
      "Epoch 14/50\n",
      "\u001B[1m4660/4660\u001B[0m \u001B[32m━━━━━━━━━━━━━━━━━━━━\u001B[0m\u001B[37m\u001B[0m \u001B[1m45s\u001B[0m 10ms/step - loss: 0.0020 - mae: 0.0233 - val_loss: 0.0020 - val_mae: 0.0232\n",
      "Epoch 15/50\n",
      "\u001B[1m4660/4660\u001B[0m \u001B[32m━━━━━━━━━━━━━━━━━━━━\u001B[0m\u001B[37m\u001B[0m \u001B[1m44s\u001B[0m 9ms/step - loss: 0.0020 - mae: 0.0234 - val_loss: 0.0020 - val_mae: 0.0243\n",
      "Epoch 16/50\n",
      "\u001B[1m4660/4660\u001B[0m \u001B[32m━━━━━━━━━━━━━━━━━━━━\u001B[0m\u001B[37m\u001B[0m \u001B[1m45s\u001B[0m 10ms/step - loss: 0.0020 - mae: 0.0233 - val_loss: 0.0020 - val_mae: 0.0246\n",
      "Epoch 17/50\n",
      "\u001B[1m4660/4660\u001B[0m \u001B[32m━━━━━━━━━━━━━━━━━━━━\u001B[0m\u001B[37m\u001B[0m \u001B[1m46s\u001B[0m 10ms/step - loss: 0.0020 - mae: 0.0230 - val_loss: 0.0019 - val_mae: 0.0228\n",
      "Epoch 18/50\n",
      "\u001B[1m4660/4660\u001B[0m \u001B[32m━━━━━━━━━━━━━━━━━━━━\u001B[0m\u001B[37m\u001B[0m \u001B[1m47s\u001B[0m 10ms/step - loss: 0.0020 - mae: 0.0229 - val_loss: 0.0019 - val_mae: 0.0229\n",
      "Epoch 19/50\n",
      "\u001B[1m4660/4660\u001B[0m \u001B[32m━━━━━━━━━━━━━━━━━━━━\u001B[0m\u001B[37m\u001B[0m \u001B[1m46s\u001B[0m 10ms/step - loss: 0.0019 - mae: 0.0227 - val_loss: 0.0020 - val_mae: 0.0239\n",
      "Epoch 20/50\n",
      "\u001B[1m4660/4660\u001B[0m \u001B[32m━━━━━━━━━━━━━━━━━━━━\u001B[0m\u001B[37m\u001B[0m \u001B[1m44s\u001B[0m 10ms/step - loss: 0.0018 - mae: 0.0226 - val_loss: 0.0019 - val_mae: 0.0227\n",
      "Epoch 21/50\n",
      "\u001B[1m4660/4660\u001B[0m \u001B[32m━━━━━━━━━━━━━━━━━━━━\u001B[0m\u001B[37m\u001B[0m \u001B[1m44s\u001B[0m 9ms/step - loss: 0.0019 - mae: 0.0227 - val_loss: 0.0019 - val_mae: 0.0220\n",
      "Epoch 22/50\n",
      "\u001B[1m4660/4660\u001B[0m \u001B[32m━━━━━━━━━━━━━━━━━━━━\u001B[0m\u001B[37m\u001B[0m \u001B[1m45s\u001B[0m 10ms/step - loss: 0.0019 - mae: 0.0226 - val_loss: 0.0020 - val_mae: 0.0234\n",
      "Epoch 23/50\n",
      "\u001B[1m4660/4660\u001B[0m \u001B[32m━━━━━━━━━━━━━━━━━━━━\u001B[0m\u001B[37m\u001B[0m \u001B[1m46s\u001B[0m 10ms/step - loss: 0.0018 - mae: 0.0224 - val_loss: 0.0019 - val_mae: 0.0230\n",
      "Epoch 24/50\n",
      "\u001B[1m4660/4660\u001B[0m \u001B[32m━━━━━━━━━━━━━━━━━━━━\u001B[0m\u001B[37m\u001B[0m \u001B[1m46s\u001B[0m 10ms/step - loss: 0.0018 - mae: 0.0224 - val_loss: 0.0020 - val_mae: 0.0247\n",
      "Epoch 25/50\n",
      "\u001B[1m4660/4660\u001B[0m \u001B[32m━━━━━━━━━━━━━━━━━━━━\u001B[0m\u001B[37m\u001B[0m \u001B[1m48s\u001B[0m 10ms/step - loss: 0.0018 - mae: 0.0222 - val_loss: 0.0019 - val_mae: 0.0231\n",
      "Epoch 26/50\n",
      "\u001B[1m4660/4660\u001B[0m \u001B[32m━━━━━━━━━━━━━━━━━━━━\u001B[0m\u001B[37m\u001B[0m \u001B[1m45s\u001B[0m 10ms/step - loss: 0.0017 - mae: 0.0221 - val_loss: 0.0020 - val_mae: 0.0227\n",
      "Epoch 27/50\n",
      "\u001B[1m4660/4660\u001B[0m \u001B[32m━━━━━━━━━━━━━━━━━━━━\u001B[0m\u001B[37m\u001B[0m \u001B[1m45s\u001B[0m 10ms/step - loss: 0.0017 - mae: 0.0220 - val_loss: 0.0019 - val_mae: 0.0225\n",
      "Epoch 28/50\n",
      "\u001B[1m4660/4660\u001B[0m \u001B[32m━━━━━━━━━━━━━━━━━━━━\u001B[0m\u001B[37m\u001B[0m \u001B[1m46s\u001B[0m 10ms/step - loss: 0.0018 - mae: 0.0224 - val_loss: 0.0019 - val_mae: 0.0227\n",
      "Epoch 29/50\n",
      "\u001B[1m4660/4660\u001B[0m \u001B[32m━━━━━━━━━━━━━━━━━━━━\u001B[0m\u001B[37m\u001B[0m \u001B[1m45s\u001B[0m 10ms/step - loss: 0.0017 - mae: 0.0220 - val_loss: 0.0019 - val_mae: 0.0225\n",
      "Epoch 30/50\n",
      "\u001B[1m4660/4660\u001B[0m \u001B[32m━━━━━━━━━━━━━━━━━━━━\u001B[0m\u001B[37m\u001B[0m \u001B[1m45s\u001B[0m 10ms/step - loss: 0.0018 - mae: 0.0220 - val_loss: 0.0019 - val_mae: 0.0228\n",
      "Epoch 31/50\n",
      "\u001B[1m4660/4660\u001B[0m \u001B[32m━━━━━━━━━━━━━━━━━━━━\u001B[0m\u001B[37m\u001B[0m \u001B[1m46s\u001B[0m 10ms/step - loss: 0.0017 - mae: 0.0218 - val_loss: 0.0019 - val_mae: 0.0228\n",
      "Epoch 32/50\n",
      "\u001B[1m4660/4660\u001B[0m \u001B[32m━━━━━━━━━━━━━━━━━━━━\u001B[0m\u001B[37m\u001B[0m \u001B[1m46s\u001B[0m 10ms/step - loss: 0.0017 - mae: 0.0219 - val_loss: 0.0019 - val_mae: 0.0225\n",
      "Epoch 33/50\n",
      "\u001B[1m4660/4660\u001B[0m \u001B[32m━━━━━━━━━━━━━━━━━━━━\u001B[0m\u001B[37m\u001B[0m \u001B[1m45s\u001B[0m 10ms/step - loss: 0.0017 - mae: 0.0218 - val_loss: 0.0019 - val_mae: 0.0225\n",
      "Epoch 34/50\n",
      "\u001B[1m4660/4660\u001B[0m \u001B[32m━━━━━━━━━━━━━━━━━━━━\u001B[0m\u001B[37m\u001B[0m \u001B[1m43s\u001B[0m 9ms/step - loss: 0.0016 - mae: 0.0218 - val_loss: 0.0019 - val_mae: 0.0223\n",
      "Epoch 35/50\n",
      "\u001B[1m4660/4660\u001B[0m \u001B[32m━━━━━━━━━━━━━━━━━━━━\u001B[0m\u001B[37m\u001B[0m \u001B[1m43s\u001B[0m 9ms/step - loss: 0.0017 - mae: 0.0220 - val_loss: 0.0019 - val_mae: 0.0226\n",
      "Epoch 36/50\n",
      "\u001B[1m4660/4660\u001B[0m \u001B[32m━━━━━━━━━━━━━━━━━━━━\u001B[0m\u001B[37m\u001B[0m \u001B[1m45s\u001B[0m 10ms/step - loss: 0.0016 - mae: 0.0217 - val_loss: 0.0019 - val_mae: 0.0220\n",
      "Epoch 37/50\n",
      "\u001B[1m4660/4660\u001B[0m \u001B[32m━━━━━━━━━━━━━━━━━━━━\u001B[0m\u001B[37m\u001B[0m \u001B[1m45s\u001B[0m 10ms/step - loss: 0.0016 - mae: 0.0215 - val_loss: 0.0019 - val_mae: 0.0225\n",
      "Epoch 38/50\n",
      "\u001B[1m4660/4660\u001B[0m \u001B[32m━━━━━━━━━━━━━━━━━━━━\u001B[0m\u001B[37m\u001B[0m \u001B[1m44s\u001B[0m 10ms/step - loss: 0.0016 - mae: 0.0215 - val_loss: 0.0020 - val_mae: 0.0229\n",
      "Epoch 39/50\n",
      "\u001B[1m4660/4660\u001B[0m \u001B[32m━━━━━━━━━━━━━━━━━━━━\u001B[0m\u001B[37m\u001B[0m \u001B[1m45s\u001B[0m 10ms/step - loss: 0.0016 - mae: 0.0217 - val_loss: 0.0019 - val_mae: 0.0220\n",
      "Epoch 40/50\n",
      "\u001B[1m4660/4660\u001B[0m \u001B[32m━━━━━━━━━━━━━━━━━━━━\u001B[0m\u001B[37m\u001B[0m \u001B[1m45s\u001B[0m 10ms/step - loss: 0.0016 - mae: 0.0215 - val_loss: 0.0019 - val_mae: 0.0225\n",
      "Epoch 41/50\n",
      "\u001B[1m4660/4660\u001B[0m \u001B[32m━━━━━━━━━━━━━━━━━━━━\u001B[0m\u001B[37m\u001B[0m \u001B[1m43s\u001B[0m 9ms/step - loss: 0.0016 - mae: 0.0214 - val_loss: 0.0019 - val_mae: 0.0227\n",
      "Epoch 42/50\n",
      "\u001B[1m4660/4660\u001B[0m \u001B[32m━━━━━━━━━━━━━━━━━━━━\u001B[0m\u001B[37m\u001B[0m \u001B[1m43s\u001B[0m 9ms/step - loss: 0.0015 - mae: 0.0212 - val_loss: 0.0019 - val_mae: 0.0225\n",
      "Epoch 43/50\n",
      "\u001B[1m4660/4660\u001B[0m \u001B[32m━━━━━━━━━━━━━━━━━━━━\u001B[0m\u001B[37m\u001B[0m \u001B[1m43s\u001B[0m 9ms/step - loss: 0.0016 - mae: 0.0215 - val_loss: 0.0019 - val_mae: 0.0225\n",
      "Epoch 44/50\n",
      "\u001B[1m4660/4660\u001B[0m \u001B[32m━━━━━━━━━━━━━━━━━━━━\u001B[0m\u001B[37m\u001B[0m \u001B[1m42s\u001B[0m 9ms/step - loss: 0.0015 - mae: 0.0212 - val_loss: 0.0019 - val_mae: 0.0232\n",
      "Epoch 45/50\n",
      "\u001B[1m4660/4660\u001B[0m \u001B[32m━━━━━━━━━━━━━━━━━━━━\u001B[0m\u001B[37m\u001B[0m \u001B[1m42s\u001B[0m 9ms/step - loss: 0.0015 - mae: 0.0211 - val_loss: 0.0019 - val_mae: 0.0230\n",
      "Epoch 46/50\n",
      "\u001B[1m4660/4660\u001B[0m \u001B[32m━━━━━━━━━━━━━━━━━━━━\u001B[0m\u001B[37m\u001B[0m \u001B[1m43s\u001B[0m 9ms/step - loss: 0.0015 - mae: 0.0212 - val_loss: 0.0019 - val_mae: 0.0223\n",
      "Epoch 47/50\n",
      "\u001B[1m4660/4660\u001B[0m \u001B[32m━━━━━━━━━━━━━━━━━━━━\u001B[0m\u001B[37m\u001B[0m \u001B[1m43s\u001B[0m 9ms/step - loss: 0.0015 - mae: 0.0212 - val_loss: 0.0019 - val_mae: 0.0223\n",
      "Epoch 48/50\n",
      "\u001B[1m4660/4660\u001B[0m \u001B[32m━━━━━━━━━━━━━━━━━━━━\u001B[0m\u001B[37m\u001B[0m \u001B[1m45s\u001B[0m 10ms/step - loss: 0.0015 - mae: 0.0211 - val_loss: 0.0019 - val_mae: 0.0221\n",
      "Epoch 49/50\n",
      "\u001B[1m4660/4660\u001B[0m \u001B[32m━━━━━━━━━━━━━━━━━━━━\u001B[0m\u001B[37m\u001B[0m \u001B[1m43s\u001B[0m 9ms/step - loss: 0.0015 - mae: 0.0210 - val_loss: 0.0019 - val_mae: 0.0222\n",
      "Epoch 50/50\n",
      "\u001B[1m4660/4660\u001B[0m \u001B[32m━━━━━━━━━━━━━━━━━━━━\u001B[0m\u001B[37m\u001B[0m \u001B[1m44s\u001B[0m 10ms/step - loss: 0.0015 - mae: 0.0211 - val_loss: 0.0019 - val_mae: 0.0220\n",
      "\u001B[1m1165/1165\u001B[0m \u001B[32m━━━━━━━━━━━━━━━━━━━━\u001B[0m\u001B[37m\u001B[0m \u001B[1m3s\u001B[0m 3ms/step\n",
      "LSTM Model - MAE: 77.74, RMSE: 152.84, R²: 0.5143\n"
     ]
    }
   ],
   "execution_count": 36
  }
 ],
 "metadata": {
  "kernelspec": {
   "display_name": "time_series",
   "language": "python",
   "name": "python3"
  },
  "language_info": {
   "codemirror_mode": {
    "name": "ipython",
    "version": 3
   },
   "file_extension": ".py",
   "mimetype": "text/x-python",
   "name": "python",
   "nbconvert_exporter": "python",
   "pygments_lexer": "ipython3",
   "version": "3.10.16"
  }
 },
 "nbformat": 4,
 "nbformat_minor": 2
}
