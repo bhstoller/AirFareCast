{
 "cells": [
  {
   "cell_type": "markdown",
   "metadata": {},
   "source": [
    "# Import Library"
   ]
  },
  {
   "cell_type": "code",
   "execution_count": 20,
   "metadata": {},
   "outputs": [],
   "source": [
    "from feature_engineering import apply_feature_engineering, add_dummies\n",
    "from data_loading import load_data\n",
    "import pandas as pd\n",
    "import numpy as np\n",
    "from sklearn.model_selection import train_test_split\n",
    "import tensorflow as tf\n",
    "from tensorflow.keras.models import Sequential\n",
    "from tensorflow.keras.layers import SimpleRNN, Dense\n",
    "from tensorflow.keras.layers import LSTM, Dense\n",
    "from sklearn.metrics import mean_absolute_error, mean_squared_error, r2_score, mean_absolute_percentage_error"
   ]
  },
  {
   "cell_type": "markdown",
   "metadata": {},
   "source": [
    "# Data Loading"
   ]
  },
  {
   "cell_type": "code",
   "execution_count": 2,
   "metadata": {},
   "outputs": [
    {
     "data": {
      "text/html": [
       "<div>\n",
       "<style scoped>\n",
       "    .dataframe tbody tr th:only-of-type {\n",
       "        vertical-align: middle;\n",
       "    }\n",
       "\n",
       "    .dataframe tbody tr th {\n",
       "        vertical-align: top;\n",
       "    }\n",
       "\n",
       "    .dataframe thead th {\n",
       "        text-align: right;\n",
       "    }\n",
       "</style>\n",
       "<table border=\"1\" class=\"dataframe\">\n",
       "  <thead>\n",
       "    <tr style=\"text-align: right;\">\n",
       "      <th></th>\n",
       "      <th>searchDate</th>\n",
       "      <th>flightDate</th>\n",
       "      <th>startingAirport</th>\n",
       "      <th>destinationAirport</th>\n",
       "      <th>travelDuration</th>\n",
       "      <th>isBasicEconomy</th>\n",
       "      <th>isRefundable</th>\n",
       "      <th>isNonStop</th>\n",
       "      <th>totalFare</th>\n",
       "      <th>seatsRemaining</th>\n",
       "      <th>totalTravelDistance</th>\n",
       "      <th>segmentsDepartureTimeRaw</th>\n",
       "      <th>segmentsAirlineCode</th>\n",
       "      <th>segmentsCabinCode</th>\n",
       "    </tr>\n",
       "  </thead>\n",
       "  <tbody>\n",
       "    <tr>\n",
       "      <th>0</th>\n",
       "      <td>2022-04-16</td>\n",
       "      <td>2022-04-17</td>\n",
       "      <td>ATL</td>\n",
       "      <td>BOS</td>\n",
       "      <td>PT2H29M</td>\n",
       "      <td>False</td>\n",
       "      <td>False</td>\n",
       "      <td>True</td>\n",
       "      <td>248.6</td>\n",
       "      <td>9</td>\n",
       "      <td>947.0</td>\n",
       "      <td>2022-04-17T12:57:00.000-04:00</td>\n",
       "      <td>DL</td>\n",
       "      <td>coach</td>\n",
       "    </tr>\n",
       "    <tr>\n",
       "      <th>1</th>\n",
       "      <td>2022-04-16</td>\n",
       "      <td>2022-04-17</td>\n",
       "      <td>ATL</td>\n",
       "      <td>BOS</td>\n",
       "      <td>PT2H30M</td>\n",
       "      <td>False</td>\n",
       "      <td>False</td>\n",
       "      <td>True</td>\n",
       "      <td>248.6</td>\n",
       "      <td>4</td>\n",
       "      <td>947.0</td>\n",
       "      <td>2022-04-17T06:30:00.000-04:00</td>\n",
       "      <td>DL</td>\n",
       "      <td>coach</td>\n",
       "    </tr>\n",
       "    <tr>\n",
       "      <th>2</th>\n",
       "      <td>2022-04-16</td>\n",
       "      <td>2022-04-17</td>\n",
       "      <td>ATL</td>\n",
       "      <td>BOS</td>\n",
       "      <td>PT2H30M</td>\n",
       "      <td>False</td>\n",
       "      <td>False</td>\n",
       "      <td>True</td>\n",
       "      <td>248.6</td>\n",
       "      <td>9</td>\n",
       "      <td>947.0</td>\n",
       "      <td>2022-04-17T11:35:00.000-04:00</td>\n",
       "      <td>DL</td>\n",
       "      <td>coach</td>\n",
       "    </tr>\n",
       "    <tr>\n",
       "      <th>3</th>\n",
       "      <td>2022-04-16</td>\n",
       "      <td>2022-04-17</td>\n",
       "      <td>ATL</td>\n",
       "      <td>BOS</td>\n",
       "      <td>PT2H32M</td>\n",
       "      <td>False</td>\n",
       "      <td>False</td>\n",
       "      <td>True</td>\n",
       "      <td>248.6</td>\n",
       "      <td>8</td>\n",
       "      <td>947.0</td>\n",
       "      <td>2022-04-17T13:59:00.000-04:00</td>\n",
       "      <td>DL</td>\n",
       "      <td>coach</td>\n",
       "    </tr>\n",
       "    <tr>\n",
       "      <th>4</th>\n",
       "      <td>2022-04-16</td>\n",
       "      <td>2022-04-17</td>\n",
       "      <td>ATL</td>\n",
       "      <td>BOS</td>\n",
       "      <td>PT2H34M</td>\n",
       "      <td>False</td>\n",
       "      <td>False</td>\n",
       "      <td>True</td>\n",
       "      <td>248.6</td>\n",
       "      <td>9</td>\n",
       "      <td>947.0</td>\n",
       "      <td>2022-04-17T09:59:00.000-04:00</td>\n",
       "      <td>DL</td>\n",
       "      <td>coach</td>\n",
       "    </tr>\n",
       "  </tbody>\n",
       "</table>\n",
       "</div>"
      ],
      "text/plain": [
       "   searchDate  flightDate startingAirport destinationAirport travelDuration  \\\n",
       "0  2022-04-16  2022-04-17             ATL                BOS        PT2H29M   \n",
       "1  2022-04-16  2022-04-17             ATL                BOS        PT2H30M   \n",
       "2  2022-04-16  2022-04-17             ATL                BOS        PT2H30M   \n",
       "3  2022-04-16  2022-04-17             ATL                BOS        PT2H32M   \n",
       "4  2022-04-16  2022-04-17             ATL                BOS        PT2H34M   \n",
       "\n",
       "   isBasicEconomy  isRefundable  isNonStop  totalFare  seatsRemaining  \\\n",
       "0           False         False       True      248.6               9   \n",
       "1           False         False       True      248.6               4   \n",
       "2           False         False       True      248.6               9   \n",
       "3           False         False       True      248.6               8   \n",
       "4           False         False       True      248.6               9   \n",
       "\n",
       "   totalTravelDistance       segmentsDepartureTimeRaw segmentsAirlineCode  \\\n",
       "0                947.0  2022-04-17T12:57:00.000-04:00                  DL   \n",
       "1                947.0  2022-04-17T06:30:00.000-04:00                  DL   \n",
       "2                947.0  2022-04-17T11:35:00.000-04:00                  DL   \n",
       "3                947.0  2022-04-17T13:59:00.000-04:00                  DL   \n",
       "4                947.0  2022-04-17T09:59:00.000-04:00                  DL   \n",
       "\n",
       "  segmentsCabinCode  \n",
       "0             coach  \n",
       "1             coach  \n",
       "2             coach  \n",
       "3             coach  \n",
       "4             coach  "
      ]
     },
     "execution_count": 2,
     "metadata": {},
     "output_type": "execute_result"
    }
   ],
   "source": [
    "# Call the load_data to get the data as a pandas dataframe\n",
    "df = load_data()\n",
    "df.head()"
   ]
  },
  {
   "cell_type": "code",
   "execution_count": 3,
   "metadata": {},
   "outputs": [],
   "source": [
    "# The data is too large to use in entirety, set a sample of 800,000 rows\n",
    "sample_size = 800000\n",
    "\n",
    "# Get the first 800,000 rows\n",
    "df_sample = df.iloc[:sample_size]"
   ]
  },
  {
   "cell_type": "markdown",
   "metadata": {},
   "source": [
    "# Feature Engineering"
   ]
  },
  {
   "cell_type": "code",
   "execution_count": 4,
   "metadata": {},
   "outputs": [
    {
     "name": "stdout",
     "output_type": "stream",
     "text": [
      "Starting feature engineering...\n",
      "Converting date columns...\n",
      "Date conversion done. Time elapsed: 0.52s\n",
      "Extracting travel duration...\n",
      "Travel duration extraction done. Time elapsed: 1.94s\n",
      "Imputing missing travel distances...\n",
      "Imputation done. Time elapsed: 1.96s\n",
      "Processing departure times...\n",
      "Departure time processing done. Time elapsed: 154.28s\n",
      "Extracting departure hour and float...\n",
      "Departure time extraction done. Time elapsed: 154.31s\n",
      "Processing airline codes...\n",
      "Airline code processing done. Time elapsed: 155.30s\n",
      "Processing cabin codes...\n",
      "Cabin class processing done. Time elapsed: 157.07s\n",
      "Binning seatsRemaining...\n",
      "Seats binning done. Time elapsed: 157.08s\n",
      "Calculating days to departure...\n",
      "Day of week processing done. Time elapsed: 157.14s\n",
      "Processing holiday features...\n",
      "Holiday features processing done. Time elapsed: 157.17s\n",
      "Dropping columns...\n",
      "Dropping columns done. Time elapsed: 157.25s\n",
      "Renaming columns...\n",
      "Renaming done. Total time elapsed: 157.25s\n",
      "Adding dummies...\n",
      "Dummies added. Total time elapsed: 157.44s\n",
      "Feature engineering complete!\n"
     ]
    }
   ],
   "source": [
    "# Call the apply_feature_engineering function from feature_engineering to get the data ready for ML Modeling\n",
    "df_sample = apply_feature_engineering(df_sample)"
   ]
  },
  {
   "cell_type": "code",
   "execution_count": 5,
   "metadata": {},
   "outputs": [
    {
     "name": "stdout",
     "output_type": "stream",
     "text": [
      "<class 'pandas.core.frame.DataFrame'>\n",
      "RangeIndex: 800000 entries, 0 to 799999\n",
      "Data columns (total 46 columns):\n",
      " #   Column                    Non-Null Count   Dtype  \n",
      "---  ------                    --------------   -----  \n",
      " 0   travelDuration            800000 non-null  int64  \n",
      " 1   isRefundable              800000 non-null  bool   \n",
      " 2   isNonStop                 800000 non-null  bool   \n",
      " 3   totalFare                 800000 non-null  float64\n",
      " 4   seatsRemaining            800000 non-null  int64  \n",
      " 5   travelDistance            800000 non-null  int64  \n",
      " 6   departureTimeHour         800000 non-null  int32  \n",
      " 7   departureTimeFloat        800000 non-null  float64\n",
      " 8   daysToDeparture           800000 non-null  int64  \n",
      " 9   departureDayOfWeek        800000 non-null  int32  \n",
      " 10  isWeekend                 800000 non-null  bool   \n",
      " 11  isHoliday                 800000 non-null  bool   \n",
      " 12  nearHoliday               800000 non-null  bool   \n",
      " 13  startingAirport_BOS       800000 non-null  bool   \n",
      " 14  startingAirport_CLT       800000 non-null  bool   \n",
      " 15  startingAirport_DEN       800000 non-null  bool   \n",
      " 16  startingAirport_DFW       800000 non-null  bool   \n",
      " 17  startingAirport_DTW       800000 non-null  bool   \n",
      " 18  startingAirport_EWR       800000 non-null  bool   \n",
      " 19  startingAirport_IAD       800000 non-null  bool   \n",
      " 20  startingAirport_JFK       800000 non-null  bool   \n",
      " 21  startingAirport_LAX       800000 non-null  bool   \n",
      " 22  startingAirport_LGA       800000 non-null  bool   \n",
      " 23  startingAirport_MIA       800000 non-null  bool   \n",
      " 24  startingAirport_OAK       800000 non-null  bool   \n",
      " 25  startingAirport_ORD       800000 non-null  bool   \n",
      " 26  startingAirport_PHL       800000 non-null  bool   \n",
      " 27  startingAirport_SFO       800000 non-null  bool   \n",
      " 28  destinationAirport_BOS    800000 non-null  bool   \n",
      " 29  destinationAirport_CLT    800000 non-null  bool   \n",
      " 30  destinationAirport_DEN    800000 non-null  bool   \n",
      " 31  destinationAirport_DFW    800000 non-null  bool   \n",
      " 32  destinationAirport_DTW    800000 non-null  bool   \n",
      " 33  destinationAirport_EWR    800000 non-null  bool   \n",
      " 34  destinationAirport_IAD    800000 non-null  bool   \n",
      " 35  destinationAirport_JFK    800000 non-null  bool   \n",
      " 36  destinationAirport_LAX    800000 non-null  bool   \n",
      " 37  destinationAirport_LGA    800000 non-null  bool   \n",
      " 38  destinationAirport_MIA    800000 non-null  bool   \n",
      " 39  destinationAirport_OAK    800000 non-null  bool   \n",
      " 40  destinationAirport_ORD    800000 non-null  bool   \n",
      " 41  destinationAirport_PHL    800000 non-null  bool   \n",
      " 42  destinationAirport_SFO    800000 non-null  bool   \n",
      " 43  cabinClass_basic economy  800000 non-null  bool   \n",
      " 44  binnedSeatsRemaining_1    800000 non-null  bool   \n",
      " 45  binnedSeatsRemaining_2    800000 non-null  bool   \n",
      "dtypes: bool(38), float64(2), int32(2), int64(4)\n",
      "memory usage: 71.7 MB\n"
     ]
    }
   ],
   "source": [
    "df_sample.info()"
   ]
  },
  {
   "cell_type": "markdown",
   "metadata": {},
   "source": [
    "# RNN"
   ]
  },
  {
   "cell_type": "code",
   "execution_count": null,
   "metadata": {},
   "outputs": [],
   "source": [
    "from sklearn.preprocessing import MinMaxScaler"
   ]
  },
  {
   "cell_type": "code",
   "execution_count": 27,
   "metadata": {},
   "outputs": [
    {
     "name": "stdout",
     "output_type": "stream",
     "text": [
      "X_train shape: (640000, 45)\n",
      "X_test shape: (160000, 45)\n"
     ]
    }
   ],
   "source": [
    "# Our X variables in these models will be all columns that are not price\n",
    "X = df_sample.drop(columns= ['totalFare'], axis= 1)\n",
    "\n",
    "# OUr y variable is of course price which is called 'totalFare'\n",
    "y = df_sample['totalFare']\n",
    "\n",
    "# Split the data into train/test split\n",
    "X_train, X_test, y_train, y_test = train_test_split(X, y, test_size= 0.2, random_state= 42)\n",
    "\n",
    "print(\"X_train shape:\", X_train.shape)\n",
    "print(\"X_test shape:\", X_test.shape)\n"
   ]
  },
  {
   "cell_type": "code",
   "execution_count": 28,
   "metadata": {},
   "outputs": [],
   "source": [
    "scaler_x = MinMaxScaler()\n",
    "scale_columns = ['travelDuration', 'travelDistance', 'departureTimeFloat']\n",
    "\n",
    "X_train[scale_columns] = scaler_x.fit_transform(X_train[scale_columns])\n",
    "X_test[scale_columns] = scaler_x.transform(X_test[scale_columns])\n"
   ]
  },
  {
   "cell_type": "code",
   "execution_count": 29,
   "metadata": {},
   "outputs": [],
   "source": [
    "scaler_y = MinMaxScaler()\n",
    "y_train = scaler_y.fit_transform(y_train.values.reshape(-1, 1))\n",
    "y_test = scaler_y.transform(y_test.values.reshape(-1, 1))"
   ]
  },
  {
   "cell_type": "code",
   "execution_count": 30,
   "metadata": {},
   "outputs": [
    {
     "data": {
      "text/html": [
       "<pre style=\"white-space:pre;overflow-x:auto;line-height:normal;font-family:Menlo,'DejaVu Sans Mono',consolas,'Courier New',monospace\"><span style=\"font-weight: bold\">Model: \"sequential_4\"</span>\n",
       "</pre>\n"
      ],
      "text/plain": [
       "\u001b[1mModel: \"sequential_4\"\u001b[0m\n"
      ]
     },
     "metadata": {},
     "output_type": "display_data"
    },
    {
     "data": {
      "text/html": [
       "<pre style=\"white-space:pre;overflow-x:auto;line-height:normal;font-family:Menlo,'DejaVu Sans Mono',consolas,'Courier New',monospace\">┏━━━━━━━━━━━━━━━━━━━━━━━━━━━━━━━━━┳━━━━━━━━━━━━━━━━━━━━━━━━┳━━━━━━━━━━━━━━━┓\n",
       "┃<span style=\"font-weight: bold\"> Layer (type)                    </span>┃<span style=\"font-weight: bold\"> Output Shape           </span>┃<span style=\"font-weight: bold\">       Param # </span>┃\n",
       "┡━━━━━━━━━━━━━━━━━━━━━━━━━━━━━━━━━╇━━━━━━━━━━━━━━━━━━━━━━━━╇━━━━━━━━━━━━━━━┩\n",
       "│ simple_rnn_3 (<span style=\"color: #0087ff; text-decoration-color: #0087ff\">SimpleRNN</span>)        │ (<span style=\"color: #00d7ff; text-decoration-color: #00d7ff\">None</span>, <span style=\"color: #00af00; text-decoration-color: #00af00\">50</span>)             │         <span style=\"color: #00af00; text-decoration-color: #00af00\">2,600</span> │\n",
       "├─────────────────────────────────┼────────────────────────┼───────────────┤\n",
       "│ dense_4 (<span style=\"color: #0087ff; text-decoration-color: #0087ff\">Dense</span>)                 │ (<span style=\"color: #00d7ff; text-decoration-color: #00d7ff\">None</span>, <span style=\"color: #00af00; text-decoration-color: #00af00\">1</span>)              │            <span style=\"color: #00af00; text-decoration-color: #00af00\">51</span> │\n",
       "└─────────────────────────────────┴────────────────────────┴───────────────┘\n",
       "</pre>\n"
      ],
      "text/plain": [
       "┏━━━━━━━━━━━━━━━━━━━━━━━━━━━━━━━━━┳━━━━━━━━━━━━━━━━━━━━━━━━┳━━━━━━━━━━━━━━━┓\n",
       "┃\u001b[1m \u001b[0m\u001b[1mLayer (type)                   \u001b[0m\u001b[1m \u001b[0m┃\u001b[1m \u001b[0m\u001b[1mOutput Shape          \u001b[0m\u001b[1m \u001b[0m┃\u001b[1m \u001b[0m\u001b[1m      Param #\u001b[0m\u001b[1m \u001b[0m┃\n",
       "┡━━━━━━━━━━━━━━━━━━━━━━━━━━━━━━━━━╇━━━━━━━━━━━━━━━━━━━━━━━━╇━━━━━━━━━━━━━━━┩\n",
       "│ simple_rnn_3 (\u001b[38;5;33mSimpleRNN\u001b[0m)        │ (\u001b[38;5;45mNone\u001b[0m, \u001b[38;5;34m50\u001b[0m)             │         \u001b[38;5;34m2,600\u001b[0m │\n",
       "├─────────────────────────────────┼────────────────────────┼───────────────┤\n",
       "│ dense_4 (\u001b[38;5;33mDense\u001b[0m)                 │ (\u001b[38;5;45mNone\u001b[0m, \u001b[38;5;34m1\u001b[0m)              │            \u001b[38;5;34m51\u001b[0m │\n",
       "└─────────────────────────────────┴────────────────────────┴───────────────┘\n"
      ]
     },
     "metadata": {},
     "output_type": "display_data"
    },
    {
     "data": {
      "text/html": [
       "<pre style=\"white-space:pre;overflow-x:auto;line-height:normal;font-family:Menlo,'DejaVu Sans Mono',consolas,'Courier New',monospace\"><span style=\"font-weight: bold\"> Total params: </span><span style=\"color: #00af00; text-decoration-color: #00af00\">2,651</span> (10.36 KB)\n",
       "</pre>\n"
      ],
      "text/plain": [
       "\u001b[1m Total params: \u001b[0m\u001b[38;5;34m2,651\u001b[0m (10.36 KB)\n"
      ]
     },
     "metadata": {},
     "output_type": "display_data"
    },
    {
     "data": {
      "text/html": [
       "<pre style=\"white-space:pre;overflow-x:auto;line-height:normal;font-family:Menlo,'DejaVu Sans Mono',consolas,'Courier New',monospace\"><span style=\"font-weight: bold\"> Trainable params: </span><span style=\"color: #00af00; text-decoration-color: #00af00\">2,651</span> (10.36 KB)\n",
       "</pre>\n"
      ],
      "text/plain": [
       "\u001b[1m Trainable params: \u001b[0m\u001b[38;5;34m2,651\u001b[0m (10.36 KB)\n"
      ]
     },
     "metadata": {},
     "output_type": "display_data"
    },
    {
     "data": {
      "text/html": [
       "<pre style=\"white-space:pre;overflow-x:auto;line-height:normal;font-family:Menlo,'DejaVu Sans Mono',consolas,'Courier New',monospace\"><span style=\"font-weight: bold\"> Non-trainable params: </span><span style=\"color: #00af00; text-decoration-color: #00af00\">0</span> (0.00 B)\n",
       "</pre>\n"
      ],
      "text/plain": [
       "\u001b[1m Non-trainable params: \u001b[0m\u001b[38;5;34m0\u001b[0m (0.00 B)\n"
      ]
     },
     "metadata": {},
     "output_type": "display_data"
    }
   ],
   "source": [
    "rnn_model = Sequential([\n",
    "    SimpleRNN(50, activation='tanh', return_sequences=False, input_shape=(X_train.shape[1], 1)), \n",
    "    Dense(1)\n",
    "])\n",
    "\n",
    "rnn_model.compile(optimizer='adam', loss='mse', metrics=['mae', 'mse'])\n",
    "\n",
    "rnn_model.summary()"
   ]
  },
  {
   "cell_type": "code",
   "execution_count": 10,
   "metadata": {},
   "outputs": [
    {
     "name": "stdout",
     "output_type": "stream",
     "text": [
      "NaN in X_train: travelDuration                  0\n",
      "isRefundable                    0\n",
      "isNonStop                       0\n",
      "seatsRemaining                  0\n",
      "totalTravelDistance         38471\n",
      "travelDistance                  0\n",
      "departureTimeHour               0\n",
      "departureTimeFloat              0\n",
      "daysToDeparture                 0\n",
      "departureDayOfWeek              0\n",
      "isWeekend                       0\n",
      "isHoliday                       0\n",
      "nearHoliday                     0\n",
      "startingAirport_BOS             0\n",
      "startingAirport_CLT             0\n",
      "startingAirport_DEN             0\n",
      "startingAirport_DFW             0\n",
      "startingAirport_DTW             0\n",
      "startingAirport_EWR             0\n",
      "startingAirport_IAD             0\n",
      "startingAirport_JFK             0\n",
      "startingAirport_LAX             0\n",
      "startingAirport_LGA             0\n",
      "startingAirport_MIA             0\n",
      "startingAirport_OAK             0\n",
      "startingAirport_ORD             0\n",
      "startingAirport_PHL             0\n",
      "startingAirport_SFO             0\n",
      "destinationAirport_BOS          0\n",
      "destinationAirport_CLT          0\n",
      "destinationAirport_DEN          0\n",
      "destinationAirport_DFW          0\n",
      "destinationAirport_DTW          0\n",
      "destinationAirport_EWR          0\n",
      "destinationAirport_IAD          0\n",
      "destinationAirport_JFK          0\n",
      "destinationAirport_LAX          0\n",
      "destinationAirport_LGA          0\n",
      "destinationAirport_MIA          0\n",
      "destinationAirport_OAK          0\n",
      "destinationAirport_ORD          0\n",
      "destinationAirport_PHL          0\n",
      "destinationAirport_SFO          0\n",
      "cabinClass_basic economy        0\n",
      "binnedSeatsRemaining_1          0\n",
      "binnedSeatsRemaining_2          0\n",
      "dtype: int64\n",
      "NaN in X_test: travelDuration                 0\n",
      "isRefundable                   0\n",
      "isNonStop                      0\n",
      "seatsRemaining                 0\n",
      "totalTravelDistance         9567\n",
      "travelDistance                 0\n",
      "departureTimeHour              0\n",
      "departureTimeFloat             0\n",
      "daysToDeparture                0\n",
      "departureDayOfWeek             0\n",
      "isWeekend                      0\n",
      "isHoliday                      0\n",
      "nearHoliday                    0\n",
      "startingAirport_BOS            0\n",
      "startingAirport_CLT            0\n",
      "startingAirport_DEN            0\n",
      "startingAirport_DFW            0\n",
      "startingAirport_DTW            0\n",
      "startingAirport_EWR            0\n",
      "startingAirport_IAD            0\n",
      "startingAirport_JFK            0\n",
      "startingAirport_LAX            0\n",
      "startingAirport_LGA            0\n",
      "startingAirport_MIA            0\n",
      "startingAirport_OAK            0\n",
      "startingAirport_ORD            0\n",
      "startingAirport_PHL            0\n",
      "startingAirport_SFO            0\n",
      "destinationAirport_BOS         0\n",
      "destinationAirport_CLT         0\n",
      "destinationAirport_DEN         0\n",
      "destinationAirport_DFW         0\n",
      "destinationAirport_DTW         0\n",
      "destinationAirport_EWR         0\n",
      "destinationAirport_IAD         0\n",
      "destinationAirport_JFK         0\n",
      "destinationAirport_LAX         0\n",
      "destinationAirport_LGA         0\n",
      "destinationAirport_MIA         0\n",
      "destinationAirport_OAK         0\n",
      "destinationAirport_ORD         0\n",
      "destinationAirport_PHL         0\n",
      "destinationAirport_SFO         0\n",
      "cabinClass_basic economy       0\n",
      "binnedSeatsRemaining_1         0\n",
      "binnedSeatsRemaining_2         0\n",
      "dtype: int64\n",
      "NaN in y_train: 0\n",
      "NaN in y_test: 0\n",
      "Inf in X_train: travelDuration              0\n",
      "isRefundable                0\n",
      "isNonStop                   0\n",
      "seatsRemaining              0\n",
      "totalTravelDistance         0\n",
      "travelDistance              0\n",
      "departureTimeHour           0\n",
      "departureTimeFloat          0\n",
      "daysToDeparture             0\n",
      "departureDayOfWeek          0\n",
      "isWeekend                   0\n",
      "isHoliday                   0\n",
      "nearHoliday                 0\n",
      "startingAirport_BOS         0\n",
      "startingAirport_CLT         0\n",
      "startingAirport_DEN         0\n",
      "startingAirport_DFW         0\n",
      "startingAirport_DTW         0\n",
      "startingAirport_EWR         0\n",
      "startingAirport_IAD         0\n",
      "startingAirport_JFK         0\n",
      "startingAirport_LAX         0\n",
      "startingAirport_LGA         0\n",
      "startingAirport_MIA         0\n",
      "startingAirport_OAK         0\n",
      "startingAirport_ORD         0\n",
      "startingAirport_PHL         0\n",
      "startingAirport_SFO         0\n",
      "destinationAirport_BOS      0\n",
      "destinationAirport_CLT      0\n",
      "destinationAirport_DEN      0\n",
      "destinationAirport_DFW      0\n",
      "destinationAirport_DTW      0\n",
      "destinationAirport_EWR      0\n",
      "destinationAirport_IAD      0\n",
      "destinationAirport_JFK      0\n",
      "destinationAirport_LAX      0\n",
      "destinationAirport_LGA      0\n",
      "destinationAirport_MIA      0\n",
      "destinationAirport_OAK      0\n",
      "destinationAirport_ORD      0\n",
      "destinationAirport_PHL      0\n",
      "destinationAirport_SFO      0\n",
      "cabinClass_basic economy    0\n",
      "binnedSeatsRemaining_1      0\n",
      "binnedSeatsRemaining_2      0\n",
      "dtype: int64\n",
      "Inf in X_test: travelDuration              0\n",
      "isRefundable                0\n",
      "isNonStop                   0\n",
      "seatsRemaining              0\n",
      "totalTravelDistance         0\n",
      "travelDistance              0\n",
      "departureTimeHour           0\n",
      "departureTimeFloat          0\n",
      "daysToDeparture             0\n",
      "departureDayOfWeek          0\n",
      "isWeekend                   0\n",
      "isHoliday                   0\n",
      "nearHoliday                 0\n",
      "startingAirport_BOS         0\n",
      "startingAirport_CLT         0\n",
      "startingAirport_DEN         0\n",
      "startingAirport_DFW         0\n",
      "startingAirport_DTW         0\n",
      "startingAirport_EWR         0\n",
      "startingAirport_IAD         0\n",
      "startingAirport_JFK         0\n",
      "startingAirport_LAX         0\n",
      "startingAirport_LGA         0\n",
      "startingAirport_MIA         0\n",
      "startingAirport_OAK         0\n",
      "startingAirport_ORD         0\n",
      "startingAirport_PHL         0\n",
      "startingAirport_SFO         0\n",
      "destinationAirport_BOS      0\n",
      "destinationAirport_CLT      0\n",
      "destinationAirport_DEN      0\n",
      "destinationAirport_DFW      0\n",
      "destinationAirport_DTW      0\n",
      "destinationAirport_EWR      0\n",
      "destinationAirport_IAD      0\n",
      "destinationAirport_JFK      0\n",
      "destinationAirport_LAX      0\n",
      "destinationAirport_LGA      0\n",
      "destinationAirport_MIA      0\n",
      "destinationAirport_OAK      0\n",
      "destinationAirport_ORD      0\n",
      "destinationAirport_PHL      0\n",
      "destinationAirport_SFO      0\n",
      "cabinClass_basic economy    0\n",
      "binnedSeatsRemaining_1      0\n",
      "binnedSeatsRemaining_2      0\n",
      "dtype: int64\n",
      "Inf in y_train: 0\n",
      "Inf in y_test: 0\n"
     ]
    }
   ],
   "source": [
    "import numpy as np\n",
    "\n",
    "print(\"NaN in X_train:\", np.isnan(X_train).sum())\n",
    "print(\"NaN in X_test:\", np.isnan(X_test).sum())\n",
    "print(\"NaN in y_train:\", np.isnan(y_train).sum())\n",
    "print(\"NaN in y_test:\", np.isnan(y_test).sum())\n",
    "\n",
    "print(\"Inf in X_train:\", np.isinf(X_train).sum())\n",
    "print(\"Inf in X_test:\", np.isinf(X_test).sum())\n",
    "print(\"Inf in y_train:\", np.isinf(y_train).sum())\n",
    "print(\"Inf in y_test:\", np.isinf(y_test).sum())\n"
   ]
  },
  {
   "cell_type": "code",
   "execution_count": 31,
   "metadata": {},
   "outputs": [
    {
     "name": "stdout",
     "output_type": "stream",
     "text": [
      "Epoch 1/50\n",
      "\u001b[1m20000/20000\u001b[0m \u001b[32m━━━━━━━━━━━━━━━━━━━━\u001b[0m\u001b[37m\u001b[0m \u001b[1m50s\u001b[0m 2ms/step - loss: 0.0034 - mae: 0.0358 - mse: 0.0034 - val_loss: 0.0027 - val_mae: 0.0291 - val_mse: 0.0027\n",
      "Epoch 2/50\n",
      "\u001b[1m20000/20000\u001b[0m \u001b[32m━━━━━━━━━━━━━━━━━━━━\u001b[0m\u001b[37m\u001b[0m \u001b[1m49s\u001b[0m 2ms/step - loss: 0.0025 - mae: 0.0298 - mse: 0.0025 - val_loss: 0.0024 - val_mae: 0.0279 - val_mse: 0.0024\n",
      "Epoch 3/50\n",
      "\u001b[1m20000/20000\u001b[0m \u001b[32m━━━━━━━━━━━━━━━━━━━━\u001b[0m\u001b[37m\u001b[0m \u001b[1m48s\u001b[0m 2ms/step - loss: 0.0024 - mae: 0.0291 - mse: 0.0024 - val_loss: 0.0023 - val_mae: 0.0272 - val_mse: 0.0023\n",
      "Epoch 4/50\n",
      "\u001b[1m20000/20000\u001b[0m \u001b[32m━━━━━━━━━━━━━━━━━━━━\u001b[0m\u001b[37m\u001b[0m \u001b[1m49s\u001b[0m 2ms/step - loss: 0.0024 - mae: 0.0290 - mse: 0.0024 - val_loss: 0.0023 - val_mae: 0.0281 - val_mse: 0.0023\n",
      "Epoch 5/50\n",
      "\u001b[1m20000/20000\u001b[0m \u001b[32m━━━━━━━━━━━━━━━━━━━━\u001b[0m\u001b[37m\u001b[0m \u001b[1m48s\u001b[0m 2ms/step - loss: 0.0024 - mae: 0.0290 - mse: 0.0024 - val_loss: 0.0024 - val_mae: 0.0303 - val_mse: 0.0024\n",
      "Epoch 6/50\n",
      "\u001b[1m20000/20000\u001b[0m \u001b[32m━━━━━━━━━━━━━━━━━━━━\u001b[0m\u001b[37m\u001b[0m \u001b[1m48s\u001b[0m 2ms/step - loss: 0.0023 - mae: 0.0287 - mse: 0.0023 - val_loss: 0.0023 - val_mae: 0.0271 - val_mse: 0.0023\n",
      "Epoch 7/50\n",
      "\u001b[1m20000/20000\u001b[0m \u001b[32m━━━━━━━━━━━━━━━━━━━━\u001b[0m\u001b[37m\u001b[0m \u001b[1m52s\u001b[0m 3ms/step - loss: 0.0024 - mae: 0.0289 - mse: 0.0024 - val_loss: 0.0022 - val_mae: 0.0267 - val_mse: 0.0022\n",
      "Epoch 8/50\n",
      "\u001b[1m20000/20000\u001b[0m \u001b[32m━━━━━━━━━━━━━━━━━━━━\u001b[0m\u001b[37m\u001b[0m \u001b[1m49s\u001b[0m 2ms/step - loss: 0.0023 - mae: 0.0288 - mse: 0.0023 - val_loss: 0.0026 - val_mae: 0.0278 - val_mse: 0.0026\n",
      "Epoch 9/50\n",
      "\u001b[1m20000/20000\u001b[0m \u001b[32m━━━━━━━━━━━━━━━━━━━━\u001b[0m\u001b[37m\u001b[0m \u001b[1m49s\u001b[0m 2ms/step - loss: 0.0024 - mae: 0.0288 - mse: 0.0024 - val_loss: 0.0023 - val_mae: 0.0278 - val_mse: 0.0023\n",
      "Epoch 10/50\n",
      "\u001b[1m20000/20000\u001b[0m \u001b[32m━━━━━━━━━━━━━━━━━━━━\u001b[0m\u001b[37m\u001b[0m \u001b[1m49s\u001b[0m 2ms/step - loss: 0.0023 - mae: 0.0286 - mse: 0.0023 - val_loss: 0.0023 - val_mae: 0.0289 - val_mse: 0.0023\n",
      "Epoch 11/50\n",
      "\u001b[1m20000/20000\u001b[0m \u001b[32m━━━━━━━━━━━━━━━━━━━━\u001b[0m\u001b[37m\u001b[0m \u001b[1m49s\u001b[0m 2ms/step - loss: 0.0023 - mae: 0.0288 - mse: 0.0023 - val_loss: 0.0023 - val_mae: 0.0272 - val_mse: 0.0023\n",
      "Epoch 12/50\n",
      "\u001b[1m20000/20000\u001b[0m \u001b[32m━━━━━━━━━━━━━━━━━━━━\u001b[0m\u001b[37m\u001b[0m \u001b[1m49s\u001b[0m 2ms/step - loss: 0.0023 - mae: 0.0287 - mse: 0.0023 - val_loss: 0.0023 - val_mae: 0.0279 - val_mse: 0.0023\n"
     ]
    }
   ],
   "source": [
    "from tensorflow.keras.callbacks import EarlyStopping\n",
    "\n",
    "early_stopping = EarlyStopping(monitor='val_loss', patience=5, restore_best_weights=True)\n",
    "\n",
    "history = rnn_model.fit(\n",
    "    X_train, y_train,\n",
    "    epochs=50, batch_size=32,\n",
    "    validation_data=(X_test, y_test),\n",
    "    callbacks=[early_stopping]\n",
    ")\n"
   ]
  },
  {
   "cell_type": "code",
   "execution_count": 32,
   "metadata": {},
   "outputs": [
    {
     "name": "stdout",
     "output_type": "stream",
     "text": [
      "\u001b[1m5000/5000\u001b[0m \u001b[32m━━━━━━━━━━━━━━━━━━━━\u001b[0m\u001b[37m\u001b[0m \u001b[1m4s\u001b[0m 865us/step\n"
     ]
    }
   ],
   "source": [
    "y_pred = rnn_model.predict(X_test)\n",
    "y_pred_original = scaler_y.inverse_transform(y_pred)"
   ]
  },
  {
   "cell_type": "code",
   "execution_count": 34,
   "metadata": {},
   "outputs": [
    {
     "name": "stdout",
     "output_type": "stream",
     "text": [
      "Mean Absolute Error (MAE): $101.17\n",
      "Root Mean Squared Error (RMSE): $31860.17\n",
      "R² Score: 0.4219\n"
     ]
    }
   ],
   "source": [
    "from sklearn.metrics import mean_absolute_error, mean_squared_error, r2_score\n",
    "\n",
    "# Convert y_test back to the original scale\n",
    "y_test_original = scaler_y.inverse_transform(y_test)\n",
    "\n",
    "# Compute error metrics\n",
    "mae = mean_absolute_error(y_test_original, y_pred_original)\n",
    "rmse = mean_squared_error(y_test_original, y_pred_original)  # RMSE\n",
    "r2 = r2_score(y_test_original, y_pred_original)\n",
    "\n",
    "# Print results\n",
    "print(f\"Mean Absolute Error (MAE): ${mae:.2f}\")\n",
    "print(f\"Root Mean Squared Error (RMSE): ${rmse:.2f}\")\n",
    "print(f\"R² Score: {r2:.4f}\")\n"
   ]
  },
  {
   "cell_type": "code",
   "execution_count": 35,
   "metadata": {},
   "outputs": [
    {
     "data": {
      "text/html": [
       "<pre style=\"white-space:pre;overflow-x:auto;line-height:normal;font-family:Menlo,'DejaVu Sans Mono',consolas,'Courier New',monospace\"><span style=\"font-weight: bold\">Model: \"sequential_5\"</span>\n",
       "</pre>\n"
      ],
      "text/plain": [
       "\u001b[1mModel: \"sequential_5\"\u001b[0m\n"
      ]
     },
     "metadata": {},
     "output_type": "display_data"
    },
    {
     "data": {
      "text/html": [
       "<pre style=\"white-space:pre;overflow-x:auto;line-height:normal;font-family:Menlo,'DejaVu Sans Mono',consolas,'Courier New',monospace\">┏━━━━━━━━━━━━━━━━━━━━━━━━━━━━━━━━━┳━━━━━━━━━━━━━━━━━━━━━━━━┳━━━━━━━━━━━━━━━┓\n",
       "┃<span style=\"font-weight: bold\"> Layer (type)                    </span>┃<span style=\"font-weight: bold\"> Output Shape           </span>┃<span style=\"font-weight: bold\">       Param # </span>┃\n",
       "┡━━━━━━━━━━━━━━━━━━━━━━━━━━━━━━━━━╇━━━━━━━━━━━━━━━━━━━━━━━━╇━━━━━━━━━━━━━━━┩\n",
       "│ lstm_1 (<span style=\"color: #0087ff; text-decoration-color: #0087ff\">LSTM</span>)                   │ (<span style=\"color: #00d7ff; text-decoration-color: #00d7ff\">None</span>, <span style=\"color: #00af00; text-decoration-color: #00af00\">50</span>)             │        <span style=\"color: #00af00; text-decoration-color: #00af00\">10,400</span> │\n",
       "├─────────────────────────────────┼────────────────────────┼───────────────┤\n",
       "│ dense_5 (<span style=\"color: #0087ff; text-decoration-color: #0087ff\">Dense</span>)                 │ (<span style=\"color: #00d7ff; text-decoration-color: #00d7ff\">None</span>, <span style=\"color: #00af00; text-decoration-color: #00af00\">1</span>)              │            <span style=\"color: #00af00; text-decoration-color: #00af00\">51</span> │\n",
       "└─────────────────────────────────┴────────────────────────┴───────────────┘\n",
       "</pre>\n"
      ],
      "text/plain": [
       "┏━━━━━━━━━━━━━━━━━━━━━━━━━━━━━━━━━┳━━━━━━━━━━━━━━━━━━━━━━━━┳━━━━━━━━━━━━━━━┓\n",
       "┃\u001b[1m \u001b[0m\u001b[1mLayer (type)                   \u001b[0m\u001b[1m \u001b[0m┃\u001b[1m \u001b[0m\u001b[1mOutput Shape          \u001b[0m\u001b[1m \u001b[0m┃\u001b[1m \u001b[0m\u001b[1m      Param #\u001b[0m\u001b[1m \u001b[0m┃\n",
       "┡━━━━━━━━━━━━━━━━━━━━━━━━━━━━━━━━━╇━━━━━━━━━━━━━━━━━━━━━━━━╇━━━━━━━━━━━━━━━┩\n",
       "│ lstm_1 (\u001b[38;5;33mLSTM\u001b[0m)                   │ (\u001b[38;5;45mNone\u001b[0m, \u001b[38;5;34m50\u001b[0m)             │        \u001b[38;5;34m10,400\u001b[0m │\n",
       "├─────────────────────────────────┼────────────────────────┼───────────────┤\n",
       "│ dense_5 (\u001b[38;5;33mDense\u001b[0m)                 │ (\u001b[38;5;45mNone\u001b[0m, \u001b[38;5;34m1\u001b[0m)              │            \u001b[38;5;34m51\u001b[0m │\n",
       "└─────────────────────────────────┴────────────────────────┴───────────────┘\n"
      ]
     },
     "metadata": {},
     "output_type": "display_data"
    },
    {
     "data": {
      "text/html": [
       "<pre style=\"white-space:pre;overflow-x:auto;line-height:normal;font-family:Menlo,'DejaVu Sans Mono',consolas,'Courier New',monospace\"><span style=\"font-weight: bold\"> Total params: </span><span style=\"color: #00af00; text-decoration-color: #00af00\">10,451</span> (40.82 KB)\n",
       "</pre>\n"
      ],
      "text/plain": [
       "\u001b[1m Total params: \u001b[0m\u001b[38;5;34m10,451\u001b[0m (40.82 KB)\n"
      ]
     },
     "metadata": {},
     "output_type": "display_data"
    },
    {
     "data": {
      "text/html": [
       "<pre style=\"white-space:pre;overflow-x:auto;line-height:normal;font-family:Menlo,'DejaVu Sans Mono',consolas,'Courier New',monospace\"><span style=\"font-weight: bold\"> Trainable params: </span><span style=\"color: #00af00; text-decoration-color: #00af00\">10,451</span> (40.82 KB)\n",
       "</pre>\n"
      ],
      "text/plain": [
       "\u001b[1m Trainable params: \u001b[0m\u001b[38;5;34m10,451\u001b[0m (40.82 KB)\n"
      ]
     },
     "metadata": {},
     "output_type": "display_data"
    },
    {
     "data": {
      "text/html": [
       "<pre style=\"white-space:pre;overflow-x:auto;line-height:normal;font-family:Menlo,'DejaVu Sans Mono',consolas,'Courier New',monospace\"><span style=\"font-weight: bold\"> Non-trainable params: </span><span style=\"color: #00af00; text-decoration-color: #00af00\">0</span> (0.00 B)\n",
       "</pre>\n"
      ],
      "text/plain": [
       "\u001b[1m Non-trainable params: \u001b[0m\u001b[38;5;34m0\u001b[0m (0.00 B)\n"
      ]
     },
     "metadata": {},
     "output_type": "display_data"
    }
   ],
   "source": [
    "lstm_model = Sequential([\n",
    "    LSTM(50, activation='tanh', return_sequences=False, input_shape=(X_train.shape[1], 1)),\n",
    "    Dense(1)  # No activation (for regression)\n",
    "])\n",
    "\n",
    "lstm_model.compile(optimizer='adam', loss='mse', metrics=['mae', 'mse'])\n",
    "\n",
    "lstm_model.summary()"
   ]
  },
  {
   "cell_type": "code",
   "execution_count": null,
   "metadata": {},
   "outputs": [],
   "source": [
    "from tensorflow.keras.callbacks import EarlyStopping\n",
    "\n",
    "early_stopping = EarlyStopping(monitor='val_loss', patience=5, restore_best_weights=True)\n",
    "\n",
    "history = rnn_model.fit(\n",
    "    X_train, y_train,\n",
    "    epochs=50, batch_size=32,\n",
    "    validation_data=(X_test, y_test),\n",
    "    callbacks=[early_stopping]\n",
    ")"
   ]
  },
  {
   "cell_type": "code",
   "execution_count": 36,
   "metadata": {},
   "outputs": [
    {
     "name": "stdout",
     "output_type": "stream",
     "text": [
      "Epoch 1/50\n",
      "\u001b[1m20000/20000\u001b[0m \u001b[32m━━━━━━━━━━━━━━━━━━━━\u001b[0m\u001b[37m\u001b[0m \u001b[1m111s\u001b[0m 6ms/step - loss: 0.0031 - mae: 0.0345 - mse: 0.0031 - val_loss: 0.0025 - val_mae: 0.0296 - val_mse: 0.0025\n",
      "Epoch 2/50\n",
      "\u001b[1m20000/20000\u001b[0m \u001b[32m━━━━━━━━━━━━━━━━━━━━\u001b[0m\u001b[37m\u001b[0m \u001b[1m107s\u001b[0m 5ms/step - loss: 0.0025 - mae: 0.0292 - mse: 0.0025 - val_loss: 0.0024 - val_mae: 0.0311 - val_mse: 0.0024\n",
      "Epoch 3/50\n",
      "\u001b[1m20000/20000\u001b[0m \u001b[32m━━━━━━━━━━━━━━━━━━━━\u001b[0m\u001b[37m\u001b[0m \u001b[1m109s\u001b[0m 5ms/step - loss: 0.0023 - mae: 0.0280 - mse: 0.0023 - val_loss: 0.0023 - val_mae: 0.0297 - val_mse: 0.0023\n",
      "Epoch 4/50\n",
      "\u001b[1m20000/20000\u001b[0m \u001b[32m━━━━━━━━━━━━━━━━━━━━\u001b[0m\u001b[37m\u001b[0m \u001b[1m108s\u001b[0m 5ms/step - loss: 0.0021 - mae: 0.0272 - mse: 0.0021 - val_loss: 0.0021 - val_mae: 0.0259 - val_mse: 0.0021\n",
      "Epoch 5/50\n",
      "\u001b[1m20000/20000\u001b[0m \u001b[32m━━━━━━━━━━━━━━━━━━━━\u001b[0m\u001b[37m\u001b[0m \u001b[1m110s\u001b[0m 6ms/step - loss: 0.0020 - mae: 0.0265 - mse: 0.0020 - val_loss: 0.0020 - val_mae: 0.0264 - val_mse: 0.0020\n",
      "Epoch 6/50\n",
      "\u001b[1m20000/20000\u001b[0m \u001b[32m━━━━━━━━━━━━━━━━━━━━\u001b[0m\u001b[37m\u001b[0m \u001b[1m108s\u001b[0m 5ms/step - loss: 0.0020 - mae: 0.0260 - mse: 0.0020 - val_loss: 0.0020 - val_mae: 0.0273 - val_mse: 0.0020\n",
      "Epoch 7/50\n",
      "\u001b[1m20000/20000\u001b[0m \u001b[32m━━━━━━━━━━━━━━━━━━━━\u001b[0m\u001b[37m\u001b[0m \u001b[1m106s\u001b[0m 5ms/step - loss: 0.0019 - mae: 0.0256 - mse: 0.0019 - val_loss: 0.0022 - val_mae: 0.0297 - val_mse: 0.0022\n",
      "Epoch 8/50\n",
      "\u001b[1m20000/20000\u001b[0m \u001b[32m━━━━━━━━━━━━━━━━━━━━\u001b[0m\u001b[37m\u001b[0m \u001b[1m105s\u001b[0m 5ms/step - loss: 0.0019 - mae: 0.0255 - mse: 0.0019 - val_loss: 0.0019 - val_mae: 0.0250 - val_mse: 0.0019\n",
      "Epoch 9/50\n",
      "\u001b[1m20000/20000\u001b[0m \u001b[32m━━━━━━━━━━━━━━━━━━━━\u001b[0m\u001b[37m\u001b[0m \u001b[1m107s\u001b[0m 5ms/step - loss: 0.0019 - mae: 0.0252 - mse: 0.0019 - val_loss: 0.0019 - val_mae: 0.0253 - val_mse: 0.0019\n",
      "Epoch 10/50\n",
      "\u001b[1m20000/20000\u001b[0m \u001b[32m━━━━━━━━━━━━━━━━━━━━\u001b[0m\u001b[37m\u001b[0m \u001b[1m106s\u001b[0m 5ms/step - loss: 0.0018 - mae: 0.0249 - mse: 0.0018 - val_loss: 0.0018 - val_mae: 0.0244 - val_mse: 0.0018\n",
      "Epoch 11/50\n",
      "\u001b[1m20000/20000\u001b[0m \u001b[32m━━━━━━━━━━━━━━━━━━━━\u001b[0m\u001b[37m\u001b[0m \u001b[1m108s\u001b[0m 5ms/step - loss: 0.0018 - mae: 0.0247 - mse: 0.0018 - val_loss: 0.0018 - val_mae: 0.0259 - val_mse: 0.0018\n",
      "Epoch 12/50\n",
      "\u001b[1m20000/20000\u001b[0m \u001b[32m━━━━━━━━━━━━━━━━━━━━\u001b[0m\u001b[37m\u001b[0m \u001b[1m107s\u001b[0m 5ms/step - loss: 0.0017 - mae: 0.0244 - mse: 0.0017 - val_loss: 0.0018 - val_mae: 0.0245 - val_mse: 0.0018\n",
      "Epoch 13/50\n",
      "\u001b[1m20000/20000\u001b[0m \u001b[32m━━━━━━━━━━━━━━━━━━━━\u001b[0m\u001b[37m\u001b[0m \u001b[1m105s\u001b[0m 5ms/step - loss: 0.0017 - mae: 0.0242 - mse: 0.0017 - val_loss: 0.0018 - val_mae: 0.0252 - val_mse: 0.0018\n",
      "Epoch 14/50\n",
      "\u001b[1m20000/20000\u001b[0m \u001b[32m━━━━━━━━━━━━━━━━━━━━\u001b[0m\u001b[37m\u001b[0m \u001b[1m115s\u001b[0m 6ms/step - loss: 0.0017 - mae: 0.0240 - mse: 0.0017 - val_loss: 0.0017 - val_mae: 0.0238 - val_mse: 0.0017\n",
      "Epoch 15/50\n",
      "\u001b[1m20000/20000\u001b[0m \u001b[32m━━━━━━━━━━━━━━━━━━━━\u001b[0m\u001b[37m\u001b[0m \u001b[1m107s\u001b[0m 5ms/step - loss: 0.0017 - mae: 0.0239 - mse: 0.0017 - val_loss: 0.0017 - val_mae: 0.0235 - val_mse: 0.0017\n",
      "Epoch 16/50\n",
      "\u001b[1m20000/20000\u001b[0m \u001b[32m━━━━━━━━━━━━━━━━━━━━\u001b[0m\u001b[37m\u001b[0m \u001b[1m109s\u001b[0m 5ms/step - loss: 0.0017 - mae: 0.0237 - mse: 0.0017 - val_loss: 0.0018 - val_mae: 0.0242 - val_mse: 0.0018\n",
      "Epoch 17/50\n",
      "\u001b[1m20000/20000\u001b[0m \u001b[32m━━━━━━━━━━━━━━━━━━━━\u001b[0m\u001b[37m\u001b[0m \u001b[1m111s\u001b[0m 6ms/step - loss: 0.0016 - mae: 0.0237 - mse: 0.0016 - val_loss: 0.0017 - val_mae: 0.0248 - val_mse: 0.0017\n",
      "Epoch 18/50\n",
      "\u001b[1m20000/20000\u001b[0m \u001b[32m━━━━━━━━━━━━━━━━━━━━\u001b[0m\u001b[37m\u001b[0m \u001b[1m107s\u001b[0m 5ms/step - loss: 0.0016 - mae: 0.0235 - mse: 0.0016 - val_loss: 0.0018 - val_mae: 0.0248 - val_mse: 0.0018\n",
      "Epoch 19/50\n",
      "\u001b[1m20000/20000\u001b[0m \u001b[32m━━━━━━━━━━━━━━━━━━━━\u001b[0m\u001b[37m\u001b[0m \u001b[1m109s\u001b[0m 5ms/step - loss: 0.0016 - mae: 0.0235 - mse: 0.0016 - val_loss: 0.0017 - val_mae: 0.0233 - val_mse: 0.0017\n",
      "Epoch 20/50\n",
      "\u001b[1m20000/20000\u001b[0m \u001b[32m━━━━━━━━━━━━━━━━━━━━\u001b[0m\u001b[37m\u001b[0m \u001b[1m111s\u001b[0m 6ms/step - loss: 0.0016 - mae: 0.0234 - mse: 0.0016 - val_loss: 0.0017 - val_mae: 0.0238 - val_mse: 0.0017\n"
     ]
    }
   ],
   "source": [
    "early_stopping = EarlyStopping(monitor='val_loss', patience=5, restore_best_weights=True)\n",
    "\n",
    "history = lstm_model.fit(\n",
    "    X_train, y_train,\n",
    "    epochs=50, batch_size=32,\n",
    "    validation_data=(X_test, y_test),\n",
    "    callbacks=[early_stopping]\n",
    ")"
   ]
  },
  {
   "cell_type": "code",
   "execution_count": 39,
   "metadata": {},
   "outputs": [
    {
     "name": "stdout",
     "output_type": "stream",
     "text": [
      "\u001b[1m5000/5000\u001b[0m \u001b[32m━━━━━━━━━━━━━━━━━━━━\u001b[0m\u001b[37m\u001b[0m \u001b[1m9s\u001b[0m 2ms/step\n"
     ]
    }
   ],
   "source": [
    "y_pred = lstm_model.predict(X_test)\n",
    "y_pred_original = scaler_y.inverse_transform(y_pred)"
   ]
  },
  {
   "cell_type": "code",
   "execution_count": 40,
   "metadata": {},
   "outputs": [
    {
     "name": "stdout",
     "output_type": "stream",
     "text": [
      "Mean Absolute Error (MAE): $88.80\n",
      "Root Mean Squared Error (RMSE): $24140.35\n",
      "R² Score: 0.5620\n"
     ]
    }
   ],
   "source": [
    "from sklearn.metrics import mean_absolute_error, mean_squared_error, r2_score\n",
    "\n",
    "# Convert y_test back to the original scale\n",
    "y_test_original = scaler_y.inverse_transform(y_test)\n",
    "\n",
    "# Compute error metrics\n",
    "mae = mean_absolute_error(y_test_original, y_pred_original)\n",
    "rmse = mean_squared_error(y_test_original, y_pred_original)  # RMSE\n",
    "r2 = r2_score(y_test_original, y_pred_original)\n",
    "\n",
    "# Print results\n",
    "print(f\"Mean Absolute Error (MAE): ${mae:.2f}\")\n",
    "print(f\"Root Mean Squared Error (RMSE): ${rmse:.2f}\")\n",
    "print(f\"R² Score: {r2:.4f}\")"
   ]
  }
 ],
 "metadata": {
  "kernelspec": {
   "display_name": "time_series",
   "language": "python",
   "name": "python3"
  },
  "language_info": {
   "codemirror_mode": {
    "name": "ipython",
    "version": 3
   },
   "file_extension": ".py",
   "mimetype": "text/x-python",
   "name": "python",
   "nbconvert_exporter": "python",
   "pygments_lexer": "ipython3",
   "version": "3.10.16"
  }
 },
 "nbformat": 4,
 "nbformat_minor": 2
}
