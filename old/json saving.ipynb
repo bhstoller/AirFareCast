{
 "cells": [
  {
   "cell_type": "markdown",
   "metadata": {},
   "source": [
    "# Import Library"
   ]
  },
  {
   "cell_type": "code",
   "execution_count": null,
   "metadata": {},
   "outputs": [],
   "source": [
    "import json\n",
    "from data_loading import load_data\n",
    "from feature_engineering import apply_feature_engineering"
   ]
  },
  {
   "cell_type": "markdown",
   "metadata": {},
   "source": [
    "# Data Loading & Feature Engineering"
   ]
  },
  {
   "cell_type": "code",
   "execution_count": null,
   "metadata": {},
   "outputs": [],
   "source": [
    "df = load_data()\n",
    "df_sample = df.iloc[:800000]\n",
    "df_sample = apply_feature_engineering(df_sample)"
   ]
  },
  {
   "cell_type": "markdown",
   "metadata": {},
   "source": [
    "# JSON Creation"
   ]
  },
  {
   "cell_type": "code",
   "execution_count": null,
   "metadata": {},
   "outputs": [],
   "source": [
    "# Convert tuple keys to string keys for JSON serialization\n",
    "TRAVEL_DATA_JSON = {\n",
    "    f\"{origin}_{destination}\": data for (origin, destination), data in TRAVEL_DATA.items()\n",
    "}\n",
    "\n",
    "# Save TRAVEL_DATA as a JSON file\n",
    "with open(\"travel_data.json\", \"w\") as f:\n",
    "    json.dump(TRAVEL_DATA_JSON, f)"
   ]
  },
  {
   "cell_type": "code",
   "execution_count": null,
   "metadata": {},
   "outputs": [],
   "source": [
    "# Dictionary of holiday dates\n",
    "HOLIDAY_DATES = {\n",
    "    \"Easter Sunday\": \"2022-04-17\",\n",
    "    \"Independence Day\": \"2022-07-04\",\n",
    "    \"Mother's Day\": \"2022-05-08\",\n",
    "    \"Labor Day\": \"2022-09-05\",\n",
    "    \"Columbus Day\": \"2022-10-10\",\n",
    "    \"Veterans Day\": \"2022-11-11\"\n",
    "}\n",
    "\n",
    "# Save TRAVEL_DATA as a JSON file\n",
    "with open(\"holiday_dates.json\", \"w\") as f:\n",
    "    json.dump(HOLIDAY_DATES, f)"
   ]
  }
 ],
 "metadata": {
  "kernelspec": {
   "display_name": "time_series",
   "language": "python",
   "name": "python3"
  },
  "language_info": {
   "name": "python",
   "version": "3.10.16"
  }
 },
 "nbformat": 4,
 "nbformat_minor": 2
}
