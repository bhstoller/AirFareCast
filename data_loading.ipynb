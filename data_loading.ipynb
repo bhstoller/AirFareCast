{
 "cells": [
  {
   "cell_type": "code",
   "id": "initial_id",
   "metadata": {
    "collapsed": true,
    "ExecuteTime": {
     "end_time": "2025-02-21T20:36:33.442190Z",
     "start_time": "2025-02-21T20:36:33.440818Z"
    }
   },
   "source": "import pandas as pd",
   "outputs": [],
   "execution_count": 1
  },
  {
   "metadata": {
    "ExecuteTime": {
     "end_time": "2025-02-21T20:40:14.090014Z",
     "start_time": "2025-02-21T20:36:33.451077Z"
    }
   },
   "cell_type": "code",
   "source": "df = pd.read_parquet(\"data/itineraries_snappy.parquet\", engine=\"pyarrow\", columns=[ \"searchDate\", \"flightDate\", \"startingAirport\", \"destinationAirport\",\"travelDuration\", \"isBasicEconomy\", \"isRefundable\", \"isNonstop\", \"totalFare\", \"seatsRemaining\", \"travelDistance\",\"segmentsDepartureTimeRaw\", \"segmentArrivalTimeRaw\", \"segmentsAirlineCode\", \"segmentsCabinCode\" ])",
   "id": "880ef796771cf9ef",
   "outputs": [],
   "execution_count": 2
  },
  {
   "metadata": {
    "ExecuteTime": {
     "end_time": "2025-02-21T20:53:55.758715Z",
     "start_time": "2025-02-21T20:53:55.741577Z"
    }
   },
   "cell_type": "code",
   "source": "df.head()",
   "id": "f189f4aae4783b68",
   "outputs": [
    {
     "data": {
      "text/plain": [
       "                              legId  searchDate  flightDate startingAirport  \\\n",
       "0  9ca0e81111c683bec1012473feefd28f  2022-04-16  2022-04-17             ATL   \n",
       "1  98685953630e772a098941b71906592b  2022-04-16  2022-04-17             ATL   \n",
       "2  98d90cbc32bfbb05c2fc32897c7c1087  2022-04-16  2022-04-17             ATL   \n",
       "3  969a269d38eae583f455486fa90877b4  2022-04-16  2022-04-17             ATL   \n",
       "4  980370cf27c89b40d2833a1d5afc9751  2022-04-16  2022-04-17             ATL   \n",
       "\n",
       "  destinationAirport fareBasisCode travelDuration  elapsedDays  \\\n",
       "0                BOS      LA0NX0MC        PT2H29M            0   \n",
       "1                BOS      LA0NX0MC        PT2H30M            0   \n",
       "2                BOS      LA0NX0MC        PT2H30M            0   \n",
       "3                BOS      LA0NX0MC        PT2H32M            0   \n",
       "4                BOS      LA0NX0MC        PT2H34M            0   \n",
       "\n",
       "   isBasicEconomy  isRefundable  ...  segmentsArrivalTimeEpochSeconds  \\\n",
       "0           False         False  ...                       1650223560   \n",
       "1           False         False  ...                       1650200400   \n",
       "2           False         False  ...                       1650218700   \n",
       "3           False         False  ...                       1650227460   \n",
       "4           False         False  ...                       1650213180   \n",
       "\n",
       "          segmentsArrivalTimeRaw  segmentsArrivalAirportCode  \\\n",
       "0  2022-04-17T15:26:00.000-04:00                         BOS   \n",
       "1  2022-04-17T09:00:00.000-04:00                         BOS   \n",
       "2  2022-04-17T14:05:00.000-04:00                         BOS   \n",
       "3  2022-04-17T16:31:00.000-04:00                         BOS   \n",
       "4  2022-04-17T12:33:00.000-04:00                         BOS   \n",
       "\n",
       "   segmentsDepartureAirportCode  segmentsAirlineName segmentsAirlineCode  \\\n",
       "0                           ATL                Delta                  DL   \n",
       "1                           ATL                Delta                  DL   \n",
       "2                           ATL                Delta                  DL   \n",
       "3                           ATL                Delta                  DL   \n",
       "4                           ATL                Delta                  DL   \n",
       "\n",
       "  segmentsEquipmentDescription segmentsDurationInSeconds segmentsDistance  \\\n",
       "0                  Airbus A321                      8940              947   \n",
       "1                  Airbus A321                      9000              947   \n",
       "2               Boeing 757-200                      9000              947   \n",
       "3                  Airbus A321                      9120              947   \n",
       "4                  Airbus A321                      9240              947   \n",
       "\n",
       "  segmentsCabinCode  \n",
       "0             coach  \n",
       "1             coach  \n",
       "2             coach  \n",
       "3             coach  \n",
       "4             coach  \n",
       "\n",
       "[5 rows x 27 columns]"
      ],
      "text/html": [
       "<div>\n",
       "<style scoped>\n",
       "    .dataframe tbody tr th:only-of-type {\n",
       "        vertical-align: middle;\n",
       "    }\n",
       "\n",
       "    .dataframe tbody tr th {\n",
       "        vertical-align: top;\n",
       "    }\n",
       "\n",
       "    .dataframe thead th {\n",
       "        text-align: right;\n",
       "    }\n",
       "</style>\n",
       "<table border=\"1\" class=\"dataframe\">\n",
       "  <thead>\n",
       "    <tr style=\"text-align: right;\">\n",
       "      <th></th>\n",
       "      <th>legId</th>\n",
       "      <th>searchDate</th>\n",
       "      <th>flightDate</th>\n",
       "      <th>startingAirport</th>\n",
       "      <th>destinationAirport</th>\n",
       "      <th>fareBasisCode</th>\n",
       "      <th>travelDuration</th>\n",
       "      <th>elapsedDays</th>\n",
       "      <th>isBasicEconomy</th>\n",
       "      <th>isRefundable</th>\n",
       "      <th>...</th>\n",
       "      <th>segmentsArrivalTimeEpochSeconds</th>\n",
       "      <th>segmentsArrivalTimeRaw</th>\n",
       "      <th>segmentsArrivalAirportCode</th>\n",
       "      <th>segmentsDepartureAirportCode</th>\n",
       "      <th>segmentsAirlineName</th>\n",
       "      <th>segmentsAirlineCode</th>\n",
       "      <th>segmentsEquipmentDescription</th>\n",
       "      <th>segmentsDurationInSeconds</th>\n",
       "      <th>segmentsDistance</th>\n",
       "      <th>segmentsCabinCode</th>\n",
       "    </tr>\n",
       "  </thead>\n",
       "  <tbody>\n",
       "    <tr>\n",
       "      <th>0</th>\n",
       "      <td>9ca0e81111c683bec1012473feefd28f</td>\n",
       "      <td>2022-04-16</td>\n",
       "      <td>2022-04-17</td>\n",
       "      <td>ATL</td>\n",
       "      <td>BOS</td>\n",
       "      <td>LA0NX0MC</td>\n",
       "      <td>PT2H29M</td>\n",
       "      <td>0</td>\n",
       "      <td>False</td>\n",
       "      <td>False</td>\n",
       "      <td>...</td>\n",
       "      <td>1650223560</td>\n",
       "      <td>2022-04-17T15:26:00.000-04:00</td>\n",
       "      <td>BOS</td>\n",
       "      <td>ATL</td>\n",
       "      <td>Delta</td>\n",
       "      <td>DL</td>\n",
       "      <td>Airbus A321</td>\n",
       "      <td>8940</td>\n",
       "      <td>947</td>\n",
       "      <td>coach</td>\n",
       "    </tr>\n",
       "    <tr>\n",
       "      <th>1</th>\n",
       "      <td>98685953630e772a098941b71906592b</td>\n",
       "      <td>2022-04-16</td>\n",
       "      <td>2022-04-17</td>\n",
       "      <td>ATL</td>\n",
       "      <td>BOS</td>\n",
       "      <td>LA0NX0MC</td>\n",
       "      <td>PT2H30M</td>\n",
       "      <td>0</td>\n",
       "      <td>False</td>\n",
       "      <td>False</td>\n",
       "      <td>...</td>\n",
       "      <td>1650200400</td>\n",
       "      <td>2022-04-17T09:00:00.000-04:00</td>\n",
       "      <td>BOS</td>\n",
       "      <td>ATL</td>\n",
       "      <td>Delta</td>\n",
       "      <td>DL</td>\n",
       "      <td>Airbus A321</td>\n",
       "      <td>9000</td>\n",
       "      <td>947</td>\n",
       "      <td>coach</td>\n",
       "    </tr>\n",
       "    <tr>\n",
       "      <th>2</th>\n",
       "      <td>98d90cbc32bfbb05c2fc32897c7c1087</td>\n",
       "      <td>2022-04-16</td>\n",
       "      <td>2022-04-17</td>\n",
       "      <td>ATL</td>\n",
       "      <td>BOS</td>\n",
       "      <td>LA0NX0MC</td>\n",
       "      <td>PT2H30M</td>\n",
       "      <td>0</td>\n",
       "      <td>False</td>\n",
       "      <td>False</td>\n",
       "      <td>...</td>\n",
       "      <td>1650218700</td>\n",
       "      <td>2022-04-17T14:05:00.000-04:00</td>\n",
       "      <td>BOS</td>\n",
       "      <td>ATL</td>\n",
       "      <td>Delta</td>\n",
       "      <td>DL</td>\n",
       "      <td>Boeing 757-200</td>\n",
       "      <td>9000</td>\n",
       "      <td>947</td>\n",
       "      <td>coach</td>\n",
       "    </tr>\n",
       "    <tr>\n",
       "      <th>3</th>\n",
       "      <td>969a269d38eae583f455486fa90877b4</td>\n",
       "      <td>2022-04-16</td>\n",
       "      <td>2022-04-17</td>\n",
       "      <td>ATL</td>\n",
       "      <td>BOS</td>\n",
       "      <td>LA0NX0MC</td>\n",
       "      <td>PT2H32M</td>\n",
       "      <td>0</td>\n",
       "      <td>False</td>\n",
       "      <td>False</td>\n",
       "      <td>...</td>\n",
       "      <td>1650227460</td>\n",
       "      <td>2022-04-17T16:31:00.000-04:00</td>\n",
       "      <td>BOS</td>\n",
       "      <td>ATL</td>\n",
       "      <td>Delta</td>\n",
       "      <td>DL</td>\n",
       "      <td>Airbus A321</td>\n",
       "      <td>9120</td>\n",
       "      <td>947</td>\n",
       "      <td>coach</td>\n",
       "    </tr>\n",
       "    <tr>\n",
       "      <th>4</th>\n",
       "      <td>980370cf27c89b40d2833a1d5afc9751</td>\n",
       "      <td>2022-04-16</td>\n",
       "      <td>2022-04-17</td>\n",
       "      <td>ATL</td>\n",
       "      <td>BOS</td>\n",
       "      <td>LA0NX0MC</td>\n",
       "      <td>PT2H34M</td>\n",
       "      <td>0</td>\n",
       "      <td>False</td>\n",
       "      <td>False</td>\n",
       "      <td>...</td>\n",
       "      <td>1650213180</td>\n",
       "      <td>2022-04-17T12:33:00.000-04:00</td>\n",
       "      <td>BOS</td>\n",
       "      <td>ATL</td>\n",
       "      <td>Delta</td>\n",
       "      <td>DL</td>\n",
       "      <td>Airbus A321</td>\n",
       "      <td>9240</td>\n",
       "      <td>947</td>\n",
       "      <td>coach</td>\n",
       "    </tr>\n",
       "  </tbody>\n",
       "</table>\n",
       "<p>5 rows × 27 columns</p>\n",
       "</div>"
      ]
     },
     "execution_count": 3,
     "metadata": {},
     "output_type": "execute_result"
    }
   ],
   "execution_count": 3
  },
  {
   "metadata": {
    "ExecuteTime": {
     "end_time": "2025-02-21T21:45:34.825519Z",
     "start_time": "2025-02-21T21:45:25.282395Z"
    }
   },
   "cell_type": "code",
   "source": [
    "df.searchDate = pd.to_datetime(df.searchDate)\n",
    "df.flightDate = pd.to_datetime(df.flightDate)"
   ],
   "id": "c1af45d50bde9082",
   "outputs": [],
   "execution_count": 16
  },
  {
   "metadata": {
    "jupyter": {
     "is_executing": true
    }
   },
   "cell_type": "code",
   "source": [
    "df['minutes'] = (\n",
    "    df['travel_duration']\n",
    "    .str.extract(r'PT(?:(\\d+)H)?(?:(\\d+)M)?')\n",
    "    .fillna(0)\n",
    "    .astype(int)\n",
    "    .apply(lambda x: x[0] * 60 + x[1], axis=1)\n",
    ")"
   ],
   "id": "c7117133a2ee928c",
   "outputs": [],
   "execution_count": null
  },
  {
   "metadata": {},
   "cell_type": "code",
   "outputs": [],
   "execution_count": null,
   "source": "",
   "id": "197b073e5b4a93f4"
  },
  {
   "metadata": {},
   "cell_type": "code",
   "outputs": [],
   "execution_count": null,
   "source": "df.head()",
   "id": "56efa850e1ca041b"
  },
  {
   "metadata": {
    "ExecuteTime": {
     "end_time": "2025-02-21T20:54:51.607234Z",
     "start_time": "2025-02-21T20:54:51.225471Z"
    }
   },
   "cell_type": "code",
   "source": [
    "average_seats_remaining = df[('seatsRemaining')].mean()\n",
    "print(average_seats_remaining)"
   ],
   "id": "52a09b82f05963e3",
   "outputs": [
    {
     "name": "stdout",
     "output_type": "stream",
     "text": [
      "5.976311522528228\n"
     ]
    }
   ],
   "execution_count": 5
  },
  {
   "metadata": {
    "ExecuteTime": {
     "end_time": "2025-02-21T21:34:51.314638Z",
     "start_time": "2025-02-21T21:34:48.906050Z"
    }
   },
   "cell_type": "code",
   "source": "df.segmentsDepartureAirportCode.unique()",
   "id": "159685db4d62146b",
   "outputs": [
    {
     "data": {
      "text/plain": [
       "array(['ATL', 'ATL||CLT', 'ATL||IAD', ..., 'DTW||ITH', 'JFK||ROC||BOS',\n",
       "       'ONT||DEN||MCO'], dtype=object)"
      ]
     },
     "execution_count": 15,
     "metadata": {},
     "output_type": "execute_result"
    }
   ],
   "execution_count": 15
  },
  {
   "metadata": {
    "ExecuteTime": {
     "end_time": "2025-02-21T21:23:16.398358Z",
     "start_time": "2025-02-21T21:23:13.096220Z"
    }
   },
   "cell_type": "code",
   "source": "df.segmentsCabinCode.unique()",
   "id": "732dbbd4434f2294",
   "outputs": [
    {
     "data": {
      "text/plain": [
       "array(['coach', 'coach||coach', 'coach||coach||coach||coach',\n",
       "       'coach||coach||coach', 'first', 'premium coach', 'first||coach',\n",
       "       'business', 'premium coach||premium coach', 'first||first',\n",
       "       'coach||premium coach', 'coach||first', 'first||coach||coach',\n",
       "       'business||first||first', 'business||coach||coach',\n",
       "       'business||coach', 'business||business||coach',\n",
       "       'coach||business||business', 'business||coach||business',\n",
       "       'premium coach||premium coach||coach', 'coach||business',\n",
       "       'coach||coach||business', 'business||business',\n",
       "       'coach||coach||first||coach', 'premium coach||coach',\n",
       "       'first||first||first', 'coach||first||first',\n",
       "       'coach||coach||first', 'coach||first||coach',\n",
       "       'coach||business||coach', 'coach||coach||premium coach',\n",
       "       'premium coach||coach||coach', 'first||first||coach',\n",
       "       'coach||premium coach||coach',\n",
       "       'coach||coach||coach||premium coach', 'business||first',\n",
       "       'premium coach||business||coach', 'coach||coach||coach||first',\n",
       "       'coach||coach||first||first',\n",
       "       'coach||premium coach||premium coach',\n",
       "       'first||coach||coach||coach', 'first||coach||first',\n",
       "       'first||business', 'coach||coach||business||coach',\n",
       "       'first||coach||business', 'coach||business||first',\n",
       "       'premium coach||premium coach||premium coach',\n",
       "       'premium coach||first', 'premium coach||coach||coach||coach',\n",
       "       'coach||coach||premium coach||premium coach',\n",
       "       'first||first||coach||coach', 'coach||coach||premium coach||coach',\n",
       "       'business||business||business',\n",
       "       'first||premium coach||premium coach', 'first||premium coach',\n",
       "       'first||business||coach', 'business||coach||coach||coach',\n",
       "       'coach||first||business', 'first||business||first',\n",
       "       'coach||premium coach||coach||coach',\n",
       "       'coach||coach||coach||coach||coach',\n",
       "       'coach||premium coach||premium coach||premium coach',\n",
       "       'coach||coach||premium coach||premium coach||premium coach',\n",
       "       'first||first||premium coach', 'coach||coach||coach||business',\n",
       "       'coach||first||premium coach', 'premium coach||first||coach',\n",
       "       'premium coach||first||first',\n",
       "       'premium coach||coach||coach||first',\n",
       "       'coach||premium coach||first', 'first||premium coach||coach'],\n",
       "      dtype=object)"
      ]
     },
     "execution_count": 13,
     "metadata": {},
     "output_type": "execute_result"
    }
   ],
   "execution_count": 13
  },
  {
   "metadata": {
    "ExecuteTime": {
     "end_time": "2025-02-21T21:28:12.401308Z",
     "start_time": "2025-02-21T21:27:45.954211Z"
    }
   },
   "cell_type": "code",
   "source": [
    "mask_mixed_cabin = df['segmentsCabinCode'].str.contains(r'first.*\\|\\|.*(coach|business|premium coach)|'\n",
    "                                                         r'coach.*\\|\\|.*(first|business|premium coach)|'\n",
    "                                                         r'business.*\\|\\|.*(first|coach|premium coach)|'\n",
    "                                                         r'premium coach.*\\|\\|.*(first|coach|business)',\n",
    "                                                         regex=True)\n",
    "\n",
    "percent_mixed_cabin = (mask_mixed_cabin.sum() / len(df)) * 100\n",
    "\n",
    "print(f\"Percentage of entries with mixed cabins: {percent_mixed_cabin:.2f}%\")"
   ],
   "id": "4e3369cf1af8a344",
   "outputs": [
    {
     "name": "stderr",
     "output_type": "stream",
     "text": [
      "/var/folders/k2/h0jvj1b548l9_206_d8lb3yw0000gn/T/ipykernel_98555/554970052.py:1: UserWarning: This pattern is interpreted as a regular expression, and has match groups. To actually get the groups, use str.extract.\n",
      "  mask_mixed_cabin = df['segmentsCabinCode'].str.contains(r'first.*\\|\\|.*(coach|business|premium coach)|'\n"
     ]
    },
    {
     "name": "stdout",
     "output_type": "stream",
     "text": [
      "Percentage of entries with mixed cabins: 0.14%\n"
     ]
    }
   ],
   "execution_count": 14
  },
  {
   "metadata": {},
   "cell_type": "code",
   "outputs": [],
   "execution_count": null,
   "source": "",
   "id": "d7c1a822eaf6d650"
  }
 ],
 "metadata": {
  "kernelspec": {
   "display_name": "Python 3",
   "language": "python",
   "name": "python3"
  },
  "language_info": {
   "codemirror_mode": {
    "name": "ipython",
    "version": 2
   },
   "file_extension": ".py",
   "mimetype": "text/x-python",
   "name": "python",
   "nbconvert_exporter": "python",
   "pygments_lexer": "ipython2",
   "version": "2.7.6"
  }
 },
 "nbformat": 4,
 "nbformat_minor": 5
}
